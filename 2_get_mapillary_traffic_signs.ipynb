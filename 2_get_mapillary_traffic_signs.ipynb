{
 "cells": [
  {
   "cell_type": "code",
   "execution_count": 1,
   "id": "79f1f573",
   "metadata": {},
   "outputs": [],
   "source": [
    "\n",
    "import geopandas as gpd\n",
    "import pandas as pd\n",
    "\n",
    "import mercantile\n",
    "from tqdm import tqdm\n",
    "import json\n",
    "\n",
    "from datetime import datetime, timezone\n",
    "import requests\n",
    "\n",
    "from vt2geojson.tools import vt_bytes_to_geojson\n",
    "\n",
    "import os\n",
    "\n",
    "from concurrent.futures import ThreadPoolExecutor, as_completed\n",
    "import threading\n",
    "\n",
    "\n",
    "import gzip\n",
    "\n"
   ]
  },
  {
   "cell_type": "code",
   "execution_count": null,
   "id": "3e13fb89",
   "metadata": {},
   "outputs": [],
   "source": []
  },
  {
   "cell_type": "code",
   "execution_count": 2,
   "id": "117696ce",
   "metadata": {},
   "outputs": [],
   "source": [
    "def load_tiles_from_json(bundesland_id, input_folder=\"output/tile_cache\"):\n",
    "    path = os.path.join(input_folder, f\"{bundesland_id}_tiles.json\")\n",
    "    with open(path, \"r\") as f:\n",
    "        tile_list = json.load(f)\n",
    "    return [mercantile.Tile(**t) for t in tile_list]"
   ]
  },
  {
   "cell_type": "code",
   "execution_count": null,
   "id": "e5097a00",
   "metadata": {},
   "outputs": [],
   "source": []
  },
  {
   "cell_type": "code",
   "execution_count": null,
   "id": "09fe9793",
   "metadata": {},
   "outputs": [],
   "source": []
  },
  {
   "cell_type": "code",
   "execution_count": 3,
   "id": "bdd931ab",
   "metadata": {},
   "outputs": [],
   "source": [
    "\n",
    "\n",
    "def export_geodata(gdfs, output_folder=\"output\", base_name=\"mapillary_traffic-signs\", region=\"ger\", save_parquet=True, save_geojson_gz=True):\n",
    "    \"\"\"\n",
    "    Export one or more GeoDataFrames into output files (.parquet and/or .geojson.gz).\n",
    "    \n",
    "    Args:\n",
    "        gdfs (list or GeoDataFrame): List of GeoDataFrames or a single GeoDataFrame.\n",
    "        output_folder (str): Output directory (created if it doesn't exist).\n",
    "        base_name (str): Base filename prefix.\n",
    "        region (str): Region tag for filename.\n",
    "        save_parquet (bool): Save .parquet file.\n",
    "        save_geojson_gz (bool): Save .geojson.gz file.\n",
    "    \"\"\"\n",
    "    if gdfs is None or (isinstance(gdfs, (gpd.GeoDataFrame, pd.DataFrame)) and gdfs.empty):\n",
    "        print(\"No data to export.\")\n",
    "        return\n",
    "\n",
    "    # Concatenate if needed\n",
    "    if isinstance(gdfs, list):\n",
    "        gdf = gpd.GeoDataFrame(pd.concat(gdfs, ignore_index=True))\n",
    "    else:\n",
    "        gdf = gdfs\n",
    "\n",
    "    os.makedirs(output_folder, exist_ok=True)\n",
    "    current_date = datetime.now().strftime('%Y-%m-%d')\n",
    "\n",
    "    if save_parquet:\n",
    "        parquet_path = os.path.join(output_folder, f\"{base_name}_{region}_{current_date}.parquet\")\n",
    "        gdf.to_parquet(parquet_path, index=False)\n",
    "        print(f\"✔ Parquet saved to: {parquet_path}\")\n",
    "\n",
    "    if save_geojson_gz:\n",
    "        geojson_path = os.path.join(output_folder, f\"{base_name}_{region}_{current_date}.geojson\")\n",
    "        gz_path = geojson_path + \".gz\"\n",
    "\n",
    "        gdf.to_file(geojson_path, driver=\"GeoJSON\")\n",
    "\n",
    "        with open(geojson_path, 'rb') as f_in, gzip.open(gz_path, 'wb') as f_out:\n",
    "            f_out.writelines(f_in)\n",
    "\n",
    "        os.remove(geojson_path)\n",
    "        print(f\"✔ Gzipped GeoJSON saved to: {gz_path}\")\n"
   ]
  },
  {
   "cell_type": "code",
   "execution_count": 4,
   "id": "8249bb61",
   "metadata": {},
   "outputs": [],
   "source": [
    "from requests.exceptions import SSLError\n",
    "import time"
   ]
  },
  {
   "cell_type": "code",
   "execution_count": 5,
   "id": "817bc8d3",
   "metadata": {},
   "outputs": [],
   "source": [
    "def process_bundesland(bundesland_id, region_name=None, input_folder=\"output/tile_cache\", output_folder=\"output\", max_workers=3, limit_tiles=None):\n",
    "    print(f\"▶️ Starte Verarbeitung für {bundesland_id}...\")\n",
    "\n",
    "    tiles = load_tiles_from_json(bundesland_id, input_folder=input_folder)\n",
    "    if limit_tiles:\n",
    "        tiles = tiles[:limit_tiles]\n",
    "\n",
    "    def process_tile(tile):\n",
    "\n",
    "        # Load your access token\n",
    "        with open(\"config.json\") as f:\n",
    "            ACCESS_TOKEN = json.load(f)[\"ACCESS_TOKEN\"]\n",
    "\n",
    "        # Use existing variables\n",
    "        tile_layer = 'traffic_sign'  # already defined\n",
    "        tile_coverage = \"mly_map_feature_traffic_sign\"\n",
    "        \n",
    "        url = f\"https://tiles.mapillary.com/maps/vtp/{tile_coverage}/2/{tile.z}/{tile.x}/{tile.y}?access_token={ACCESS_TOKEN}\"\n",
    "        response = requests.get(url)\n",
    "        if response.status_code != 200:\n",
    "            return None\n",
    "        try:\n",
    "            geojson = vt_bytes_to_geojson(response.content, tile.x, tile.y, tile.z, layer=tile_layer)\n",
    "            features = geojson.get(\"features\", [])\n",
    "            if not features:\n",
    "                return None\n",
    "            gdf_tile = gpd.GeoDataFrame.from_features(features, crs=\"EPSG:4326\")\n",
    "            gdf_tile['first_seen_at'] = gdf_tile['first_seen_at'].apply(lambda x: datetime.fromtimestamp(x / 1000, tz=timezone.utc)).dt.strftime('%Y-%m-%d')\n",
    "            gdf_tile['last_seen_at'] = gdf_tile['last_seen_at'].apply(lambda x: datetime.fromtimestamp(x / 1000, tz=timezone.utc)).dt.strftime('%Y-%m-%d')\n",
    "            gdf_tile['tile_x'] = tile.x\n",
    "            gdf_tile['tile_y'] = tile.y\n",
    "            return gdf_tile\n",
    "        except Exception as e:\n",
    "            print(f\"❌ Fehler bei Tile {tile.x}/{tile.y}: {e}\")\n",
    "            return None\n",
    "\n",
    "    gdf_all = []\n",
    "    with ThreadPoolExecutor(max_workers=max_workers) as executor:\n",
    "        futures = {executor.submit(process_tile, tile): tile for tile in tiles}\n",
    "        for future in tqdm(as_completed(futures), total=len(futures), desc=f\"🧩 {bundesland_id}\"): #, leave=False\n",
    "            try:\n",
    "                result = future.result()\n",
    "                if result is not None:\n",
    "                    gdf_all.append(result)\n",
    "            except SSLError as e:\n",
    "                print(f\"⚠️ SSLError: {e}. Pausiere für 5 Minuten...\")\n",
    "                time.sleep(300)  # 5 Minuten Pause\n",
    "            except Exception as e:\n",
    "                print(f\"⚠️ Unbekannter Fehler: {e}\")\n",
    "\n",
    "    if gdf_all:\n",
    "        gdf_all = gpd.GeoDataFrame(pd.concat(gdf_all, ignore_index=True))\n",
    "        export_geodata(\n",
    "            gdfs=gdf_all,\n",
    "            output_folder=output_folder,\n",
    "            region=bundesland_id,\n",
    "            save_parquet=True,\n",
    "            save_geojson_gz=True\n",
    "        )\n",
    "    else:\n",
    "        print(f\"⚠️ Keine Daten für {bundesland_id}.\")\n"
   ]
  },
  {
   "cell_type": "code",
   "execution_count": null,
   "id": "13431775",
   "metadata": {},
   "outputs": [],
   "source": [
    "bland = gpd.read_file(\"https://raw.githubusercontent.com/isellsoap/deutschlandGeoJSON/main/2_bundeslaender/1_sehr_hoch.geo.json\")\n",
    "bland[15:]"
   ]
  },
  {
   "cell_type": "code",
   "execution_count": null,
   "id": "8eccb110",
   "metadata": {},
   "outputs": [
    {
     "name": "stdout",
     "output_type": "stream",
     "text": [
      "▶️ Starte Verarbeitung für DE-TH...\n"
     ]
    },
    {
     "name": "stderr",
     "output_type": "stream",
     "text": [
      "🧩 DE-TH:   0%|          | 1/6813 [00:00<1:22:23,  1.38it/s]"
     ]
    },
    {
     "name": "stdout",
     "output_type": "stream",
     "text": [
      "❌ Fehler bei Tile 8641/5510: Error parsing message with type 'vector_tile.tile'\n"
     ]
    },
    {
     "name": "stderr",
     "output_type": "stream",
     "text": [
      "🧩 DE-TH:   0%|          | 2/6813 [00:01<1:05:13,  1.74it/s]"
     ]
    },
    {
     "name": "stdout",
     "output_type": "stream",
     "text": [
      "❌ Fehler bei Tile 8642/5508: Error parsing message with type 'vector_tile.tile'\n",
      "❌ Fehler bei Tile 8641/5508: Error parsing message with type 'vector_tile.tile'\n"
     ]
    },
    {
     "name": "stderr",
     "output_type": "stream",
     "text": [
      "🧩 DE-TH:   0%|          | 4/6813 [00:01<33:43,  3.36it/s]  "
     ]
    },
    {
     "name": "stdout",
     "output_type": "stream",
     "text": [
      "❌ Fehler bei Tile 8642/5509: Error parsing message with type 'vector_tile.tile'\n"
     ]
    },
    {
     "name": "stderr",
     "output_type": "stream",
     "text": [
      "🧩 DE-TH:   0%|          | 5/6813 [00:01<42:01,  2.70it/s]"
     ]
    },
    {
     "name": "stdout",
     "output_type": "stream",
     "text": [
      "❌ Fehler bei Tile 8642/5510: Error parsing message with type 'vector_tile.tile'\n",
      "❌ Fehler bei Tile 8643/5505: Error parsing message with type 'vector_tile.tile'\n"
     ]
    },
    {
     "name": "stderr",
     "output_type": "stream",
     "text": [
      "🧩 DE-TH:   0%|          | 7/6813 [00:02<40:46,  2.78it/s]"
     ]
    },
    {
     "name": "stdout",
     "output_type": "stream",
     "text": [
      "❌ Fehler bei Tile 8643/5506: Error parsing message with type 'vector_tile.tile'\n"
     ]
    },
    {
     "name": "stderr",
     "output_type": "stream",
     "text": [
      "🧩 DE-TH:   0%|          | 8/6813 [00:03<45:08,  2.51it/s]"
     ]
    },
    {
     "name": "stdout",
     "output_type": "stream",
     "text": [
      "❌ Fehler bei Tile 8643/5507: Error parsing message with type 'vector_tile.tile'\n",
      "❌ Fehler bei Tile 8643/5508: Error parsing message with type 'vector_tile.tile'\n"
     ]
    },
    {
     "name": "stderr",
     "output_type": "stream",
     "text": [
      "🧩 DE-TH:   0%|          | 10/6813 [00:03<33:54,  3.34it/s]"
     ]
    },
    {
     "name": "stdout",
     "output_type": "stream",
     "text": [
      "❌ Fehler bei Tile 8643/5509: Error parsing message with type 'vector_tile.tile'\n"
     ]
    },
    {
     "name": "stderr",
     "output_type": "stream",
     "text": [
      "🧩 DE-TH:   0%|          | 11/6813 [00:04<51:17,  2.21it/s]"
     ]
    },
    {
     "name": "stdout",
     "output_type": "stream",
     "text": [
      "❌ Fehler bei Tile 8643/5510: Error parsing message with type 'vector_tile.tile'\n",
      "❌ Fehler bei Tile 8644/5457: Error parsing message with type 'vector_tile.tile'\n"
     ]
    },
    {
     "name": "stderr",
     "output_type": "stream",
     "text": [
      "🧩 DE-TH:   0%|          | 13/6813 [00:05<44:34,  2.54it/s]"
     ]
    },
    {
     "name": "stdout",
     "output_type": "stream",
     "text": [
      "❌ Fehler bei Tile 8644/5458: Error parsing message with type 'vector_tile.tile'\n"
     ]
    },
    {
     "name": "stderr",
     "output_type": "stream",
     "text": [
      "🧩 DE-TH:   0%|          | 15/6813 [00:05<44:37,  2.54it/s]"
     ]
    },
    {
     "name": "stdout",
     "output_type": "stream",
     "text": [
      "❌ Fehler bei Tile 8644/5459: Error parsing message with type 'vector_tile.tile'\n",
      "❌ Fehler bei Tile 8644/5501: Error parsing message with type 'vector_tile.tile'\n"
     ]
    },
    {
     "name": "stderr",
     "output_type": "stream",
     "text": [
      "🧩 DE-TH:   0%|          | 16/6813 [00:06<44:56,  2.52it/s]"
     ]
    },
    {
     "name": "stdout",
     "output_type": "stream",
     "text": [
      "❌ Fehler bei Tile 8644/5502: Error parsing message with type 'vector_tile.tile'\n"
     ]
    },
    {
     "name": "stderr",
     "output_type": "stream",
     "text": [
      "🧩 DE-TH:   0%|          | 18/6813 [00:07<43:33,  2.60it/s]"
     ]
    },
    {
     "name": "stdout",
     "output_type": "stream",
     "text": [
      "❌ Fehler bei Tile 8644/5503: Error parsing message with type 'vector_tile.tile'\n",
      "❌ Fehler bei Tile 8644/5504: Error parsing message with type 'vector_tile.tile'\n"
     ]
    },
    {
     "name": "stderr",
     "output_type": "stream",
     "text": [
      "🧩 DE-TH:   0%|          | 19/6813 [00:07<44:06,  2.57it/s]"
     ]
    },
    {
     "name": "stdout",
     "output_type": "stream",
     "text": [
      "❌ Fehler bei Tile 8644/5505: Error parsing message with type 'vector_tile.tile'\n"
     ]
    },
    {
     "name": "stderr",
     "output_type": "stream",
     "text": [
      "🧩 DE-TH:   0%|          | 20/6813 [00:08<53:16,  2.13it/s]"
     ]
    },
    {
     "name": "stdout",
     "output_type": "stream",
     "text": [
      "❌ Fehler bei Tile 8644/5506: Error parsing message with type 'vector_tile.tile'\n"
     ]
    },
    {
     "name": "stderr",
     "output_type": "stream",
     "text": [
      "🧩 DE-TH:   0%|          | 21/6813 [00:08<49:08,  2.30it/s]"
     ]
    },
    {
     "name": "stdout",
     "output_type": "stream",
     "text": [
      "❌ Fehler bei Tile 8644/5507: Error parsing message with type 'vector_tile.tile'\n"
     ]
    },
    {
     "name": "stderr",
     "output_type": "stream",
     "text": [
      "🧩 DE-TH:   0%|          | 22/6813 [00:08<43:48,  2.58it/s]"
     ]
    },
    {
     "name": "stdout",
     "output_type": "stream",
     "text": [
      "❌ Fehler bei Tile 8644/5508: Error parsing message with type 'vector_tile.tile'\n"
     ]
    },
    {
     "name": "stderr",
     "output_type": "stream",
     "text": [
      "🧩 DE-TH:   0%|          | 23/6813 [00:09<50:26,  2.24it/s]"
     ]
    },
    {
     "name": "stdout",
     "output_type": "stream",
     "text": [
      "❌ Fehler bei Tile 8644/5510: Error parsing message with type 'vector_tile.tile'\n",
      "❌ Fehler bei Tile 8644/5509: Error parsing message with type 'vector_tile.tile'\n"
     ]
    },
    {
     "name": "stderr",
     "output_type": "stream",
     "text": [
      "🧩 DE-TH:   0%|          | 27/6813 [00:10<31:44,  3.56it/s]"
     ]
    },
    {
     "name": "stdout",
     "output_type": "stream",
     "text": [
      "❌ Fehler bei Tile 8645/5456: Error parsing message with type 'vector_tile.tile'\n",
      "❌ Fehler bei Tile 8644/5511: Error parsing message with type 'vector_tile.tile'\n",
      "❌ Fehler bei Tile 8645/5457: Error parsing message with type 'vector_tile.tile'\n"
     ]
    },
    {
     "name": "stderr",
     "output_type": "stream",
     "text": [
      "🧩 DE-TH:   0%|          | 28/6813 [00:11<40:46,  2.77it/s]"
     ]
    },
    {
     "name": "stdout",
     "output_type": "stream",
     "text": [
      "❌ Fehler bei Tile 8645/5459: Error parsing message with type 'vector_tile.tile'\n"
     ]
    },
    {
     "name": "stderr",
     "output_type": "stream",
     "text": [
      "🧩 DE-TH:   0%|          | 30/6813 [00:11<39:10,  2.89it/s]"
     ]
    },
    {
     "name": "stdout",
     "output_type": "stream",
     "text": [
      "❌ Fehler bei Tile 8645/5458: Error parsing message with type 'vector_tile.tile'\n",
      "❌ Fehler bei Tile 8645/5461: Error parsing message with type 'vector_tile.tile'\n",
      "❌ Fehler bei Tile 8645/5460: Error parsing message with type 'vector_tile.tile'\n"
     ]
    },
    {
     "name": "stderr",
     "output_type": "stream",
     "text": [
      "🧩 DE-TH:   0%|          | 32/6813 [00:12<51:18,  2.20it/s]"
     ]
    },
    {
     "name": "stdout",
     "output_type": "stream",
     "text": [
      "❌ Fehler bei Tile 8645/5462: Error parsing message with type 'vector_tile.tile'\n",
      "❌ Fehler bei Tile 8645/5497: Error parsing message with type 'vector_tile.tile'\n",
      "❌ Fehler bei Tile 8645/5489: Error parsing message with type 'vector_tile.tile'\n"
     ]
    },
    {
     "name": "stderr",
     "output_type": "stream",
     "text": [
      "🧩 DE-TH:   1%|          | 35/6813 [00:14<46:08,  2.45it/s]"
     ]
    },
    {
     "name": "stdout",
     "output_type": "stream",
     "text": [
      "❌ Fehler bei Tile 8645/5498: Error parsing message with type 'vector_tile.tile'\n"
     ]
    },
    {
     "name": "stderr",
     "output_type": "stream",
     "text": [
      "🧩 DE-TH:   1%|          | 37/6813 [00:14<39:19,  2.87it/s]"
     ]
    },
    {
     "name": "stdout",
     "output_type": "stream",
     "text": [
      "❌ Fehler bei Tile 8645/5500: Error parsing message with type 'vector_tile.tile'\n",
      "❌ Fehler bei Tile 8645/5499: Error parsing message with type 'vector_tile.tile'\n"
     ]
    },
    {
     "name": "stderr",
     "output_type": "stream",
     "text": [
      "🧩 DE-TH:   1%|          | 38/6813 [00:15<46:45,  2.42it/s]"
     ]
    },
    {
     "name": "stdout",
     "output_type": "stream",
     "text": [
      "❌ Fehler bei Tile 8645/5502: Error parsing message with type 'vector_tile.tile'\n"
     ]
    },
    {
     "name": "stderr",
     "output_type": "stream",
     "text": [
      "🧩 DE-TH:   1%|          | 39/6813 [00:15<41:34,  2.72it/s]"
     ]
    },
    {
     "name": "stdout",
     "output_type": "stream",
     "text": [
      "❌ Fehler bei Tile 8645/5501: Error parsing message with type 'vector_tile.tile'\n",
      "❌ Fehler bei Tile 8645/5503: Error parsing message with type 'vector_tile.tile'\n"
     ]
    },
    {
     "name": "stderr",
     "output_type": "stream",
     "text": [
      "🧩 DE-TH:   1%|          | 40/6813 [00:15<44:43,  2.52it/s]\n"
     ]
    },
    {
     "name": "stdout",
     "output_type": "stream",
     "text": [
      "❌ Fehler bei Tile 8645/5504: Error parsing message with type 'vector_tile.tile'\n",
      "❌ Fehler bei Tile 8645/5505: Error parsing message with type 'vector_tile.tile'\n",
      "❌ Fehler bei Tile 8645/5506: Error parsing message with type 'vector_tile.tile'\n",
      "❌ Fehler bei Tile 8645/5507: Error parsing message with type 'vector_tile.tile'\n",
      "❌ Fehler bei Tile 8646/5456: Error parsing message with type 'vector_tile.tile'\n",
      "❌ Fehler bei Tile 8645/5508: Error parsing message with type 'vector_tile.tile'\n",
      "❌ Fehler bei Tile 8646/5458: Error parsing message with type 'vector_tile.tile'\n",
      "❌ Fehler bei Tile 8646/5457: Error parsing message with type 'vector_tile.tile'\n",
      "❌ Fehler bei Tile 8646/5459: Error parsing message with type 'vector_tile.tile'\n",
      "❌ Fehler bei Tile 8646/5460: Error parsing message with type 'vector_tile.tile'\n",
      "❌ Fehler bei Tile 8646/5462: Error parsing message with type 'vector_tile.tile'\n",
      "❌ Fehler bei Tile 8646/5461: Error parsing message with type 'vector_tile.tile'\n",
      "❌ Fehler bei Tile 8646/5463: Error parsing message with type 'vector_tile.tile'\n",
      "❌ Fehler bei Tile 8646/5489: Error parsing message with type 'vector_tile.tile'\n",
      "❌ Fehler bei Tile 8646/5490: Error parsing message with type 'vector_tile.tile'\n",
      "❌ Fehler bei Tile 8646/5497: Error parsing message with type 'vector_tile.tile'\n",
      "❌ Fehler bei Tile 8646/5498: Error parsing message with type 'vector_tile.tile'\n",
      "❌ Fehler bei Tile 8646/5499: Error parsing message with type 'vector_tile.tile'\n",
      "❌ Fehler bei Tile 8646/5500: Error parsing message with type 'vector_tile.tile'\n",
      "❌ Fehler bei Tile 8646/5501: Error parsing message with type 'vector_tile.tile'\n",
      "❌ Fehler bei Tile 8646/5502: Error parsing message with type 'vector_tile.tile'\n",
      "❌ Fehler bei Tile 8646/5503: Error parsing message with type 'vector_tile.tile'\n",
      "❌ Fehler bei Tile 8646/5504: Error parsing message with type 'vector_tile.tile'\n",
      "❌ Fehler bei Tile 8646/5506: Error parsing message with type 'vector_tile.tile'\n",
      "❌ Fehler bei Tile 8646/5505: Error parsing message with type 'vector_tile.tile'\n",
      "❌ Fehler bei Tile 8646/5507: Error parsing message with type 'vector_tile.tile'\n",
      "❌ Fehler bei Tile 8647/5457: Error parsing message with type 'vector_tile.tile'\n",
      "❌ Fehler bei Tile 8647/5456: Error parsing message with type 'vector_tile.tile'\n",
      "❌ Fehler bei Tile 8647/5458: Error parsing message with type 'vector_tile.tile'\n"
     ]
    }
   ],
   "source": [
    "\n",
    "\n",
    "# Alle Bundesländer im tile_cache verarbeiten\n",
    "\n",
    "bland = gpd.read_file(\"https://raw.githubusercontent.com/isellsoap/deutschlandGeoJSON/main/2_bundeslaender/1_sehr_hoch.geo.json\")\n",
    "\n",
    "#for _, row in bland[:1].iterrows():\n",
    "for _, row in bland[15:].iterrows():\n",
    "\n",
    "    b_id = row[\"id\"]\n",
    "    name = row[\"name\"]\n",
    "\n",
    "    # Nur verarbeiten, wenn eine JSON-Datei existiert\n",
    "    tile_json_path = os.path.join(\"output/tile_cache\", f\"{b_id}_tiles.json\")\n",
    "    if not os.path.exists(tile_json_path):\n",
    "        print(f\"⏩ Überspringe {b_id}, keine Tiles gefunden.\")\n",
    "        continue\n",
    "\n",
    "    process_bundesland(b_id, region_name=name)"
   ]
  },
  {
   "cell_type": "code",
   "execution_count": null,
   "id": "3ce2b771",
   "metadata": {},
   "outputs": [],
   "source": []
  }
 ],
 "metadata": {
  "kernelspec": {
   "display_name": "venv",
   "language": "python",
   "name": "python3"
  },
  "language_info": {
   "codemirror_mode": {
    "name": "ipython",
    "version": 3
   },
   "file_extension": ".py",
   "mimetype": "text/x-python",
   "name": "python",
   "nbconvert_exporter": "python",
   "pygments_lexer": "ipython3",
   "version": "3.12.3"
  }
 },
 "nbformat": 4,
 "nbformat_minor": 5
}
