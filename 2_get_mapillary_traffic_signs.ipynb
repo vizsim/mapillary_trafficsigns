{
 "cells": [
  {
   "cell_type": "code",
   "execution_count": 2,
   "id": "79f1f573",
   "metadata": {},
   "outputs": [],
   "source": [
    "\n",
    "import geopandas as gpd\n",
    "import pandas as pd\n",
    "\n",
    "import mercantile\n",
    "from tqdm import tqdm\n",
    "import json\n",
    "\n",
    "from datetime import datetime, timezone\n",
    "import requests\n",
    "\n",
    "from vt2geojson.tools import vt_bytes_to_geojson\n",
    "\n",
    "import os\n",
    "\n",
    "from concurrent.futures import ThreadPoolExecutor, as_completed\n",
    "import threading\n",
    "\n",
    "\n",
    "import gzip\n",
    "\n"
   ]
  },
  {
   "cell_type": "code",
   "execution_count": null,
   "id": "3e13fb89",
   "metadata": {},
   "outputs": [],
   "source": []
  },
  {
   "cell_type": "code",
   "execution_count": 3,
   "id": "117696ce",
   "metadata": {},
   "outputs": [],
   "source": [
    "def load_tiles_from_json(bundesland_id, input_folder=\"output/tile_cache\"):\n",
    "    path = os.path.join(input_folder, f\"{bundesland_id}_tiles.json\")\n",
    "    with open(path, \"r\") as f:\n",
    "        tile_list = json.load(f)\n",
    "    return [mercantile.Tile(**t) for t in tile_list]"
   ]
  },
  {
   "cell_type": "code",
   "execution_count": null,
   "id": "e5097a00",
   "metadata": {},
   "outputs": [],
   "source": []
  },
  {
   "cell_type": "code",
   "execution_count": null,
   "id": "09fe9793",
   "metadata": {},
   "outputs": [],
   "source": []
  },
  {
   "cell_type": "code",
   "execution_count": 4,
   "id": "bdd931ab",
   "metadata": {},
   "outputs": [],
   "source": [
    "\n",
    "\n",
    "def export_geodata(gdfs, output_folder=\"output\", base_name=\"mapillary_traffic-signs\", region=\"ger\", save_parquet=True, save_geojson_gz=True):\n",
    "    \"\"\"\n",
    "    Export one or more GeoDataFrames into output files (.parquet and/or .geojson.gz).\n",
    "    \n",
    "    Args:\n",
    "        gdfs (list or GeoDataFrame): List of GeoDataFrames or a single GeoDataFrame.\n",
    "        output_folder (str): Output directory (created if it doesn't exist).\n",
    "        base_name (str): Base filename prefix.\n",
    "        region (str): Region tag for filename.\n",
    "        save_parquet (bool): Save .parquet file.\n",
    "        save_geojson_gz (bool): Save .geojson.gz file.\n",
    "    \"\"\"\n",
    "    if gdfs is None or (isinstance(gdfs, (gpd.GeoDataFrame, pd.DataFrame)) and gdfs.empty):\n",
    "        print(\"No data to export.\")\n",
    "        return\n",
    "\n",
    "    # Concatenate if needed\n",
    "    if isinstance(gdfs, list):\n",
    "        gdf = gpd.GeoDataFrame(pd.concat(gdfs, ignore_index=True))\n",
    "    else:\n",
    "        gdf = gdfs\n",
    "\n",
    "    os.makedirs(output_folder, exist_ok=True)\n",
    "    current_date = datetime.now().strftime('%Y-%m-%d')\n",
    "\n",
    "    if save_parquet:\n",
    "        parquet_path = os.path.join(output_folder, f\"{base_name}_{region}_{current_date}.parquet\")\n",
    "        gdf.to_parquet(parquet_path, index=False)\n",
    "        print(f\"✔ Parquet saved to: {parquet_path}\")\n",
    "\n",
    "    if save_geojson_gz:\n",
    "        geojson_path = os.path.join(output_folder, f\"{base_name}_{region}_{current_date}.geojson\")\n",
    "        gz_path = geojson_path + \".gz\"\n",
    "\n",
    "        gdf.to_file(geojson_path, driver=\"GeoJSON\")\n",
    "\n",
    "        with open(geojson_path, 'rb') as f_in, gzip.open(gz_path, 'wb') as f_out:\n",
    "            f_out.writelines(f_in)\n",
    "\n",
    "        os.remove(geojson_path)\n",
    "        print(f\"✔ Gzipped GeoJSON saved to: {gz_path}\")\n"
   ]
  },
  {
   "cell_type": "code",
   "execution_count": 5,
   "id": "8249bb61",
   "metadata": {},
   "outputs": [],
   "source": [
    "from requests.exceptions import SSLError\n",
    "import time"
   ]
  },
  {
   "cell_type": "code",
   "execution_count": 6,
   "id": "817bc8d3",
   "metadata": {},
   "outputs": [],
   "source": [
    "def process_bundesland(bundesland_id, region_name=None, input_folder=\"output/tile_cache\", output_folder=\"output\", max_workers=3, limit_tiles=None):\n",
    "    print(f\"▶️ Starte Verarbeitung für {bundesland_id}...\")\n",
    "\n",
    "    tiles = load_tiles_from_json(bundesland_id, input_folder=input_folder)\n",
    "    if limit_tiles:\n",
    "        tiles = tiles[:limit_tiles]\n",
    "\n",
    "    def process_tile(tile):\n",
    "\n",
    "        # Load your access token\n",
    "        with open(\"config.json\") as f:\n",
    "            ACCESS_TOKEN = json.load(f)[\"ACCESS_TOKEN\"]\n",
    "\n",
    "        # Use existing variables\n",
    "        tile_layer = 'traffic_sign'  # already defined\n",
    "        tile_coverage = \"mly_map_feature_traffic_sign\"\n",
    "        \n",
    "        url = f\"https://tiles.mapillary.com/maps/vtp/{tile_coverage}/2/{tile.z}/{tile.x}/{tile.y}?access_token={ACCESS_TOKEN}\"\n",
    "        response = requests.get(url)\n",
    "        if response.status_code != 200:\n",
    "            return None\n",
    "        try:\n",
    "            geojson = vt_bytes_to_geojson(response.content, tile.x, tile.y, tile.z, layer=tile_layer)\n",
    "            features = geojson.get(\"features\", [])\n",
    "            if not features:\n",
    "                return None\n",
    "            gdf_tile = gpd.GeoDataFrame.from_features(features, crs=\"EPSG:4326\")\n",
    "            gdf_tile['first_seen_at'] = gdf_tile['first_seen_at'].apply(lambda x: datetime.fromtimestamp(x / 1000, tz=timezone.utc)).dt.strftime('%Y-%m-%d')\n",
    "            gdf_tile['last_seen_at'] = gdf_tile['last_seen_at'].apply(lambda x: datetime.fromtimestamp(x / 1000, tz=timezone.utc)).dt.strftime('%Y-%m-%d')\n",
    "            gdf_tile['tile_x'] = tile.x\n",
    "            gdf_tile['tile_y'] = tile.y\n",
    "            return gdf_tile\n",
    "        except Exception as e:\n",
    "            print(f\"❌ Fehler bei Tile {tile.x}/{tile.y}: {e}\")\n",
    "            return None\n",
    "\n",
    "    gdf_all = []\n",
    "    with ThreadPoolExecutor(max_workers=max_workers) as executor:\n",
    "        futures = {executor.submit(process_tile, tile): tile for tile in tiles}\n",
    "        for future in tqdm(as_completed(futures), total=len(futures), desc=f\"🧩 {bundesland_id}\"): #, leave=False\n",
    "            try:\n",
    "                result = future.result()\n",
    "                if result is not None:\n",
    "                    gdf_all.append(result)\n",
    "            except SSLError as e:\n",
    "                print(f\"⚠️ SSLError: {e}. Pausiere für 5 Minuten...\")\n",
    "                time.sleep(300)  # 5 Minuten Pause\n",
    "            except Exception as e:\n",
    "                print(f\"⚠️ Unbekannter Fehler: {e}\")\n",
    "\n",
    "    if gdf_all:\n",
    "        gdf_all = gpd.GeoDataFrame(pd.concat(gdf_all, ignore_index=True))\n",
    "        export_geodata(\n",
    "            gdfs=gdf_all,\n",
    "            output_folder=output_folder,\n",
    "            region=bundesland_id,\n",
    "            save_parquet=True,\n",
    "            save_geojson_gz=True\n",
    "        )\n",
    "    else:\n",
    "        print(f\"⚠️ Keine Daten für {bundesland_id}.\")\n"
   ]
  },
  {
   "cell_type": "code",
   "execution_count": 6,
   "id": "13431775",
   "metadata": {},
   "outputs": [
    {
     "data": {
      "text/html": [
       "<div>\n",
       "<style scoped>\n",
       "    .dataframe tbody tr th:only-of-type {\n",
       "        vertical-align: middle;\n",
       "    }\n",
       "\n",
       "    .dataframe tbody tr th {\n",
       "        vertical-align: top;\n",
       "    }\n",
       "\n",
       "    .dataframe thead th {\n",
       "        text-align: right;\n",
       "    }\n",
       "</style>\n",
       "<table border=\"1\" class=\"dataframe\">\n",
       "  <thead>\n",
       "    <tr style=\"text-align: right;\">\n",
       "      <th></th>\n",
       "      <th>id</th>\n",
       "      <th>name</th>\n",
       "      <th>type</th>\n",
       "      <th>geometry</th>\n",
       "    </tr>\n",
       "  </thead>\n",
       "  <tbody>\n",
       "    <tr>\n",
       "      <th>15</th>\n",
       "      <td>DE-TH</td>\n",
       "      <td>Thüringen</td>\n",
       "      <td>State</td>\n",
       "      <td>POLYGON ((10.77189 51.64491, 10.78391 51.64098...</td>\n",
       "    </tr>\n",
       "  </tbody>\n",
       "</table>\n",
       "</div>"
      ],
      "text/plain": [
       "       id       name   type                                           geometry\n",
       "15  DE-TH  Thüringen  State  POLYGON ((10.77189 51.64491, 10.78391 51.64098..."
      ]
     },
     "execution_count": 6,
     "metadata": {},
     "output_type": "execute_result"
    }
   ],
   "source": [
    "bland = gpd.read_file(\"https://raw.githubusercontent.com/isellsoap/deutschlandGeoJSON/main/2_bundeslaender/1_sehr_hoch.geo.json\")\n",
    "bland[15:]"
   ]
  },
  {
   "cell_type": "code",
   "execution_count": 8,
   "id": "8eccb110",
   "metadata": {},
   "outputs": [
    {
     "name": "stdout",
     "output_type": "stream",
     "text": [
      "▶️ Starte Verarbeitung für DE-BW...\n"
     ]
    },
    {
     "name": "stderr",
     "output_type": "stream",
     "text": [
      "🧩 DE-BW:  28%|██▊       | 3769/13618 [08:24<22:02,  7.45it/s]"
     ]
    },
    {
     "name": "stdout",
     "output_type": "stream",
     "text": [
      "⚠️ SSLError: HTTPSConnectionPool(host='tiles.mapillary.com', port=443): Max retries exceeded with url: /maps/vtp/mly_map_feature_traffic_sign/2/14/8581/5661?access_token=MLY%7C9298308523597911%7Cc4503f1224f08315f3877b3fa267e186 (Caused by SSLError(SSLError(1, '[SSL: SSLV3_ALERT_UNEXPECTED_MESSAGE] sslv3 alert unexpected message (_ssl.c:1000)'))). Pausiere für 5 Minuten...\n"
     ]
    },
    {
     "name": "stderr",
     "output_type": "stream",
     "text": [
      "🧩 DE-BW: 100%|██████████| 13618/13618 [30:20<00:00,  7.48it/s]   \n"
     ]
    },
    {
     "name": "stdout",
     "output_type": "stream",
     "text": [
      "✔ Parquet saved to: output/mapillary_traffic-signs_DE-BW_2025-09-08.parquet\n",
      "✔ Gzipped GeoJSON saved to: output/mapillary_traffic-signs_DE-BW_2025-09-08.geojson.gz\n",
      "▶️ Starte Verarbeitung für DE-BY...\n"
     ]
    },
    {
     "name": "stderr",
     "output_type": "stream",
     "text": [
      "🧩 DE-BY: 100%|██████████| 27315/27315 [59:47<00:00,  7.61it/s]  \n"
     ]
    },
    {
     "name": "stdout",
     "output_type": "stream",
     "text": [
      "✔ Parquet saved to: output/mapillary_traffic-signs_DE-BY_2025-09-08.parquet\n",
      "✔ Gzipped GeoJSON saved to: output/mapillary_traffic-signs_DE-BY_2025-09-08.geojson.gz\n",
      "▶️ Starte Verarbeitung für DE-BE...\n"
     ]
    },
    {
     "name": "stderr",
     "output_type": "stream",
     "text": [
      "🧩 DE-BE: 100%|██████████| 399/399 [01:21<00:00,  4.91it/s]\n"
     ]
    },
    {
     "name": "stdout",
     "output_type": "stream",
     "text": [
      "✔ Parquet saved to: output/mapillary_traffic-signs_DE-BE_2025-09-08.parquet\n",
      "✔ Gzipped GeoJSON saved to: output/mapillary_traffic-signs_DE-BE_2025-09-08.geojson.gz\n",
      "▶️ Starte Verarbeitung für DE-BB...\n"
     ]
    },
    {
     "name": "stderr",
     "output_type": "stream",
     "text": [
      "🧩 DE-BB: 100%|██████████| 13255/13255 [29:33<00:00,  7.47it/s]\n"
     ]
    },
    {
     "name": "stdout",
     "output_type": "stream",
     "text": [
      "✔ Parquet saved to: output/mapillary_traffic-signs_DE-BB_2025-09-08.parquet\n",
      "✔ Gzipped GeoJSON saved to: output/mapillary_traffic-signs_DE-BB_2025-09-08.geojson.gz\n",
      "▶️ Starte Verarbeitung für DE-HB...\n"
     ]
    },
    {
     "name": "stderr",
     "output_type": "stream",
     "text": [
      "🧩 DE-HB: 100%|██████████| 142/142 [00:19<00:00,  7.33it/s]\n"
     ]
    },
    {
     "name": "stdout",
     "output_type": "stream",
     "text": [
      "✔ Parquet saved to: output/mapillary_traffic-signs_DE-HB_2025-09-08.parquet\n",
      "✔ Gzipped GeoJSON saved to: output/mapillary_traffic-signs_DE-HB_2025-09-08.geojson.gz\n",
      "▶️ Starte Verarbeitung für DE-HH...\n"
     ]
    },
    {
     "name": "stderr",
     "output_type": "stream",
     "text": [
      "🧩 DE-HH: 100%|██████████| 356/356 [00:53<00:00,  6.65it/s]\n"
     ]
    },
    {
     "name": "stdout",
     "output_type": "stream",
     "text": [
      "✔ Parquet saved to: output/mapillary_traffic-signs_DE-HH_2025-09-08.parquet\n",
      "✔ Gzipped GeoJSON saved to: output/mapillary_traffic-signs_DE-HH_2025-09-08.geojson.gz\n",
      "▶️ Starte Verarbeitung für DE-HE...\n"
     ]
    },
    {
     "name": "stderr",
     "output_type": "stream",
     "text": [
      "🧩 DE-HE: 100%|██████████| 8699/8699 [18:50<00:00,  7.69it/s]\n"
     ]
    },
    {
     "name": "stdout",
     "output_type": "stream",
     "text": [
      "✔ Parquet saved to: output/mapillary_traffic-signs_DE-HE_2025-09-08.parquet\n",
      "✔ Gzipped GeoJSON saved to: output/mapillary_traffic-signs_DE-HE_2025-09-08.geojson.gz\n",
      "▶️ Starte Verarbeitung für DE-MV...\n"
     ]
    },
    {
     "name": "stderr",
     "output_type": "stream",
     "text": [
      "🧩 DE-MV: 100%|██████████| 11053/11053 [22:37<00:00,  8.14it/s]\n"
     ]
    },
    {
     "name": "stdout",
     "output_type": "stream",
     "text": [
      "✔ Parquet saved to: output/mapillary_traffic-signs_DE-MV_2025-09-08.parquet\n",
      "✔ Gzipped GeoJSON saved to: output/mapillary_traffic-signs_DE-MV_2025-09-08.geojson.gz\n",
      "▶️ Starte Verarbeitung für DE-NI...\n"
     ]
    },
    {
     "name": "stderr",
     "output_type": "stream",
     "text": [
      "🧩 DE-NI: 100%|██████████| 21799/21799 [48:46<00:00,  7.45it/s] \n"
     ]
    },
    {
     "name": "stdout",
     "output_type": "stream",
     "text": [
      "✔ Parquet saved to: output/mapillary_traffic-signs_DE-NI_2025-09-08.parquet\n",
      "✔ Gzipped GeoJSON saved to: output/mapillary_traffic-signs_DE-NI_2025-09-08.geojson.gz\n",
      "▶️ Starte Verarbeitung für DE-NW...\n"
     ]
    },
    {
     "name": "stderr",
     "output_type": "stream",
     "text": [
      "🧩 DE-NW: 100%|██████████| 14748/14748 [32:57<00:00,  7.46it/s] \n"
     ]
    },
    {
     "name": "stdout",
     "output_type": "stream",
     "text": [
      "✔ Parquet saved to: output/mapillary_traffic-signs_DE-NW_2025-09-08.parquet\n",
      "✔ Gzipped GeoJSON saved to: output/mapillary_traffic-signs_DE-NW_2025-09-08.geojson.gz\n",
      "▶️ Starte Verarbeitung für DE-RP...\n"
     ]
    },
    {
     "name": "stderr",
     "output_type": "stream",
     "text": [
      "🧩 DE-RP: 100%|██████████| 8003/8003 [17:16<00:00,  7.72it/s]\n"
     ]
    },
    {
     "name": "stdout",
     "output_type": "stream",
     "text": [
      "✔ Parquet saved to: output/mapillary_traffic-signs_DE-RP_2025-09-09.parquet\n",
      "✔ Gzipped GeoJSON saved to: output/mapillary_traffic-signs_DE-RP_2025-09-09.geojson.gz\n",
      "▶️ Starte Verarbeitung für DE-SL...\n"
     ]
    },
    {
     "name": "stderr",
     "output_type": "stream",
     "text": [
      "🧩 DE-SL: 100%|██████████| 1028/1028 [02:18<00:00,  7.43it/s]\n"
     ]
    },
    {
     "name": "stdout",
     "output_type": "stream",
     "text": [
      "✔ Parquet saved to: output/mapillary_traffic-signs_DE-SL_2025-09-09.parquet\n",
      "✔ Gzipped GeoJSON saved to: output/mapillary_traffic-signs_DE-SL_2025-09-09.geojson.gz\n",
      "▶️ Starte Verarbeitung für DE-ST...\n"
     ]
    },
    {
     "name": "stderr",
     "output_type": "stream",
     "text": [
      "🧩 DE-ST: 100%|██████████| 9075/9075 [18:46<00:00,  8.05it/s]\n"
     ]
    },
    {
     "name": "stdout",
     "output_type": "stream",
     "text": [
      "✔ Parquet saved to: output/mapillary_traffic-signs_DE-ST_2025-09-09.parquet\n",
      "✔ Gzipped GeoJSON saved to: output/mapillary_traffic-signs_DE-ST_2025-09-09.geojson.gz\n",
      "▶️ Starte Verarbeitung für DE-SN...\n"
     ]
    },
    {
     "name": "stderr",
     "output_type": "stream",
     "text": [
      "🧩 DE-SN:  41%|████▏     | 3223/7778 [06:56<11:45,  6.45it/s]"
     ]
    },
    {
     "name": "stdout",
     "output_type": "stream",
     "text": [
      "⚠️ SSLError: HTTPSConnectionPool(host='tiles.mapillary.com', port=443): Max retries exceeded with url: /maps/vtp/mly_map_feature_traffic_sign/2/14/8784/5461?access_token=MLY%7C9298308523597911%7Cc4503f1224f08315f3877b3fa267e186 (Caused by SSLError(SSLError(1, '[SSL: SSLV3_ALERT_UNEXPECTED_MESSAGE] sslv3 alert unexpected message (_ssl.c:1000)'))). Pausiere für 5 Minuten...\n"
     ]
    },
    {
     "name": "stderr",
     "output_type": "stream",
     "text": [
      "🧩 DE-SN: 100%|██████████| 7778/7778 [16:33<00:00,  7.83it/s]   \n"
     ]
    },
    {
     "name": "stdout",
     "output_type": "stream",
     "text": [
      "✔ Parquet saved to: output/mapillary_traffic-signs_DE-SN_2025-09-09.parquet\n",
      "✔ Gzipped GeoJSON saved to: output/mapillary_traffic-signs_DE-SN_2025-09-09.geojson.gz\n",
      "▶️ Starte Verarbeitung für DE-SH...\n"
     ]
    },
    {
     "name": "stderr",
     "output_type": "stream",
     "text": [
      "🧩 DE-SH: 100%|██████████| 7645/7645 [17:24<00:00,  7.32it/s]\n"
     ]
    },
    {
     "name": "stdout",
     "output_type": "stream",
     "text": [
      "✔ Parquet saved to: output/mapillary_traffic-signs_DE-SH_2025-09-09.parquet\n",
      "✔ Gzipped GeoJSON saved to: output/mapillary_traffic-signs_DE-SH_2025-09-09.geojson.gz\n",
      "▶️ Starte Verarbeitung für DE-TH...\n"
     ]
    },
    {
     "name": "stderr",
     "output_type": "stream",
     "text": [
      "🧩 DE-TH: 100%|██████████| 6813/6813 [14:26<00:00,  7.87it/s]\n"
     ]
    },
    {
     "name": "stdout",
     "output_type": "stream",
     "text": [
      "✔ Parquet saved to: output/mapillary_traffic-signs_DE-TH_2025-09-09.parquet\n",
      "✔ Gzipped GeoJSON saved to: output/mapillary_traffic-signs_DE-TH_2025-09-09.geojson.gz\n"
     ]
    }
   ],
   "source": [
    "\n",
    "\n",
    "# Alle Bundesländer im tile_cache verarbeiten\n",
    "\n",
    "bland = gpd.read_file(\"https://raw.githubusercontent.com/isellsoap/deutschlandGeoJSON/main/2_bundeslaender/1_sehr_hoch.geo.json\")\n",
    "\n",
    "#for _, row in bland[:1].iterrows():\n",
    "#for _, row in bland[15:].iterrows():\n",
    "for _, row in bland.iterrows():\n",
    "\n",
    "    b_id = row[\"id\"]\n",
    "    name = row[\"name\"]\n",
    "\n",
    "    # Nur verarbeiten, wenn eine JSON-Datei existiert\n",
    "    tile_json_path = os.path.join(\"output/tile_cache\", f\"{b_id}_tiles.json\")\n",
    "    if not os.path.exists(tile_json_path):\n",
    "        print(f\"⏩ Überspringe {b_id}, keine Tiles gefunden.\")\n",
    "        continue\n",
    "\n",
    "    process_bundesland(b_id, region_name=name)"
   ]
  },
  {
   "cell_type": "code",
   "execution_count": null,
   "id": "3ce2b771",
   "metadata": {},
   "outputs": [],
   "source": []
  }
 ],
 "metadata": {
  "kernelspec": {
   "display_name": "venv",
   "language": "python",
   "name": "python3"
  },
  "language_info": {
   "codemirror_mode": {
    "name": "ipython",
    "version": 3
   },
   "file_extension": ".py",
   "mimetype": "text/x-python",
   "name": "python",
   "nbconvert_exporter": "python",
   "pygments_lexer": "ipython3",
   "version": "3.12.3"
  }
 },
 "nbformat": 4,
 "nbformat_minor": 5
}
