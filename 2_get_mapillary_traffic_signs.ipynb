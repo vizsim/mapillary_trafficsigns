{
 "cells": [
  {
   "cell_type": "code",
   "execution_count": null,
   "id": "79f1f573",
   "metadata": {},
   "outputs": [],
   "source": [
    "\n",
    "import geopandas as gpd\n",
    "import pandas as pd\n",
    "\n",
    "import mercantile\n",
    "from tqdm import tqdm\n",
    "import json\n",
    "\n",
    "from datetime import datetime, timezone\n",
    "import requests\n",
    "\n",
    "from vt2geojson.tools import vt_bytes_to_geojson\n",
    "\n",
    "import os\n",
    "\n",
    "from concurrent.futures import ThreadPoolExecutor, as_completed\n",
    "#import threading\n",
    "\n",
    "\n",
    "import gzip\n",
    "\n",
    "\n",
    "from requests.exceptions import SSLError\n",
    "import time\n",
    "\n"
   ]
  },
  {
   "cell_type": "code",
   "execution_count": null,
   "id": "3e13fb89",
   "metadata": {},
   "outputs": [],
   "source": []
  },
  {
   "cell_type": "code",
   "execution_count": 2,
   "id": "117696ce",
   "metadata": {},
   "outputs": [],
   "source": [
    "def load_tiles_from_json(bundesland_id, input_folder=\"output/tile_cache\"):\n",
    "    path = os.path.join(input_folder, f\"{bundesland_id}_tiles.json\")\n",
    "    with open(path, \"r\") as f:\n",
    "        tile_list = json.load(f)\n",
    "    return [mercantile.Tile(**t) for t in tile_list]"
   ]
  },
  {
   "cell_type": "code",
   "execution_count": null,
   "id": "e5097a00",
   "metadata": {},
   "outputs": [],
   "source": []
  },
  {
   "cell_type": "code",
   "execution_count": null,
   "id": "09fe9793",
   "metadata": {},
   "outputs": [],
   "source": []
  },
  {
   "cell_type": "code",
   "execution_count": 3,
   "id": "bdd931ab",
   "metadata": {},
   "outputs": [],
   "source": [
    "\n",
    "\n",
    "def export_geodata(gdfs, output_folder=\"output\", base_name=\"mapillary_traffic-signs\", region=\"ger\", save_parquet=True, save_geojson_gz=True):\n",
    "    \"\"\"\n",
    "    Export one or more GeoDataFrames into output files (.parquet and/or .geojson.gz).\n",
    "    \n",
    "    Args:\n",
    "        gdfs (list or GeoDataFrame): List of GeoDataFrames or a single GeoDataFrame.\n",
    "        output_folder (str): Output directory (created if it doesn't exist).\n",
    "        base_name (str): Base filename prefix.\n",
    "        region (str): Region tag for filename.\n",
    "        save_parquet (bool): Save .parquet file.\n",
    "        save_geojson_gz (bool): Save .geojson.gz file.\n",
    "    \"\"\"\n",
    "    if gdfs is None or (isinstance(gdfs, (gpd.GeoDataFrame, pd.DataFrame)) and gdfs.empty):\n",
    "        print(\"No data to export.\")\n",
    "        return\n",
    "\n",
    "    # Concatenate if needed\n",
    "    if isinstance(gdfs, list):\n",
    "        gdf = gpd.GeoDataFrame(pd.concat(gdfs, ignore_index=True))\n",
    "    else:\n",
    "        gdf = gdfs\n",
    "\n",
    "    os.makedirs(output_folder, exist_ok=True)\n",
    "    current_date = datetime.now().strftime('%Y-%m-%d')\n",
    "\n",
    "    if save_parquet:\n",
    "        parquet_path = os.path.join(output_folder, f\"{base_name}_{region}_{current_date}.parquet\")\n",
    "        gdf.to_parquet(parquet_path, index=False)\n",
    "        print(f\"✔ Parquet saved to: {parquet_path}\")\n",
    "\n",
    "    if save_geojson_gz:\n",
    "        geojson_path = os.path.join(output_folder, f\"{base_name}_{region}_{current_date}.geojson\")\n",
    "        gz_path = geojson_path + \".gz\"\n",
    "\n",
    "        gdf.to_file(geojson_path, driver=\"GeoJSON\")\n",
    "\n",
    "        with open(geojson_path, 'rb') as f_in, gzip.open(gz_path, 'wb') as f_out:\n",
    "            f_out.writelines(f_in)\n",
    "\n",
    "        os.remove(geojson_path)\n",
    "        print(f\"✔ Gzipped GeoJSON saved to: {gz_path}\")\n"
   ]
  },
  {
   "cell_type": "code",
   "execution_count": null,
   "id": "8249bb61",
   "metadata": {},
   "outputs": [],
   "source": []
  },
  {
   "cell_type": "code",
   "execution_count": 5,
   "id": "817bc8d3",
   "metadata": {},
   "outputs": [],
   "source": [
    "def process_bundesland(bundesland_id, region_name=None, input_folder=\"output/tile_cache\", output_folder=\"output\", max_workers=3, limit_tiles=None):\n",
    "    print(f\"▶️ Starte Verarbeitung für {bundesland_id}...\")\n",
    "\n",
    "    tiles = load_tiles_from_json(bundesland_id, input_folder=input_folder)\n",
    "    if limit_tiles:\n",
    "        tiles = tiles[:limit_tiles]\n",
    "\n",
    "    def process_tile(tile):\n",
    "\n",
    "        # Load your access token\n",
    "        with open(\"config.json\") as f:\n",
    "            ACCESS_TOKEN = json.load(f)[\"ACCESS_TOKEN\"]\n",
    "\n",
    "        # Use existing variables\n",
    "        tile_layer = 'traffic_sign'  # already defined\n",
    "        tile_coverage = \"mly_map_feature_traffic_sign\"\n",
    "        \n",
    "        url = f\"https://tiles.mapillary.com/maps/vtp/{tile_coverage}/2/{tile.z}/{tile.x}/{tile.y}?access_token={ACCESS_TOKEN}\"\n",
    "        response = requests.get(url)\n",
    "        if response.status_code != 200:\n",
    "            return None\n",
    "        try:\n",
    "            geojson = vt_bytes_to_geojson(response.content, tile.x, tile.y, tile.z, layer=tile_layer)\n",
    "            features = geojson.get(\"features\", [])\n",
    "            if not features:\n",
    "                return None\n",
    "            gdf_tile = gpd.GeoDataFrame.from_features(features, crs=\"EPSG:4326\")\n",
    "            gdf_tile['first_seen_at'] = gdf_tile['first_seen_at'].apply(lambda x: datetime.fromtimestamp(x / 1000, tz=timezone.utc)).dt.strftime('%Y-%m-%d')\n",
    "            gdf_tile['last_seen_at'] = gdf_tile['last_seen_at'].apply(lambda x: datetime.fromtimestamp(x / 1000, tz=timezone.utc)).dt.strftime('%Y-%m-%d')\n",
    "            gdf_tile['tile_x'] = tile.x\n",
    "            gdf_tile['tile_y'] = tile.y\n",
    "            return gdf_tile\n",
    "        except Exception as e:\n",
    "            print(f\"❌ Fehler bei Tile {tile.x}/{tile.y}: {e}\")\n",
    "            return None\n",
    "\n",
    "    gdf_all = []\n",
    "    with ThreadPoolExecutor(max_workers=max_workers) as executor:\n",
    "        futures = {executor.submit(process_tile, tile): tile for tile in tiles}\n",
    "        for future in tqdm(as_completed(futures), total=len(futures), desc=f\"🧩 {bundesland_id}\"): #, leave=False\n",
    "            try:\n",
    "                result = future.result()\n",
    "                if result is not None:\n",
    "                    gdf_all.append(result)\n",
    "            except SSLError as e:\n",
    "                print(f\"⚠️ SSLError: {e}. Pausiere für 5 Minuten...\")\n",
    "                time.sleep(300)  # 5 Minuten Pause\n",
    "            except Exception as e:\n",
    "                print(f\"⚠️ Unbekannter Fehler: {e}\")\n",
    "\n",
    "    if gdf_all:\n",
    "        gdf_all = gpd.GeoDataFrame(pd.concat(gdf_all, ignore_index=True))\n",
    "        export_geodata(\n",
    "            gdfs=gdf_all,\n",
    "            output_folder=output_folder,\n",
    "            region=bundesland_id,\n",
    "            save_parquet=True,\n",
    "            save_geojson_gz=True\n",
    "        )\n",
    "    else:\n",
    "        print(f\"⚠️ Keine Daten für {bundesland_id}.\")\n"
   ]
  },
  {
   "cell_type": "code",
   "execution_count": 6,
   "id": "13431775",
   "metadata": {},
   "outputs": [
    {
     "data": {
      "text/html": [
       "<div>\n",
       "<style scoped>\n",
       "    .dataframe tbody tr th:only-of-type {\n",
       "        vertical-align: middle;\n",
       "    }\n",
       "\n",
       "    .dataframe tbody tr th {\n",
       "        vertical-align: top;\n",
       "    }\n",
       "\n",
       "    .dataframe thead th {\n",
       "        text-align: right;\n",
       "    }\n",
       "</style>\n",
       "<table border=\"1\" class=\"dataframe\">\n",
       "  <thead>\n",
       "    <tr style=\"text-align: right;\">\n",
       "      <th></th>\n",
       "      <th>id</th>\n",
       "      <th>name</th>\n",
       "      <th>type</th>\n",
       "      <th>geometry</th>\n",
       "    </tr>\n",
       "  </thead>\n",
       "  <tbody>\n",
       "    <tr>\n",
       "      <th>0</th>\n",
       "      <td>DE-BW</td>\n",
       "      <td>Baden-Württemberg</td>\n",
       "      <td>State</td>\n",
       "      <td>MULTIPOLYGON (((8.70837 47.71556, 8.70918 47.7...</td>\n",
       "    </tr>\n",
       "    <tr>\n",
       "      <th>1</th>\n",
       "      <td>DE-BY</td>\n",
       "      <td>Bayern</td>\n",
       "      <td>State</td>\n",
       "      <td>POLYGON ((10.13386 50.55, 10.1398 50.54252, 10...</td>\n",
       "    </tr>\n",
       "    <tr>\n",
       "      <th>2</th>\n",
       "      <td>DE-BE</td>\n",
       "      <td>Berlin</td>\n",
       "      <td>State</td>\n",
       "      <td>POLYGON ((13.16181 52.59442, 13.174 52.59425, ...</td>\n",
       "    </tr>\n",
       "    <tr>\n",
       "      <th>3</th>\n",
       "      <td>DE-BB</td>\n",
       "      <td>Brandenburg</td>\n",
       "      <td>State</td>\n",
       "      <td>POLYGON ((13.87951 53.50107, 13.87927 53.49908...</td>\n",
       "    </tr>\n",
       "    <tr>\n",
       "      <th>4</th>\n",
       "      <td>DE-HB</td>\n",
       "      <td>Bremen</td>\n",
       "      <td>State</td>\n",
       "      <td>POLYGON ((8.98545 53.12822, 8.97316 53.12799, ...</td>\n",
       "    </tr>\n",
       "    <tr>\n",
       "      <th>5</th>\n",
       "      <td>DE-HH</td>\n",
       "      <td>Hamburg</td>\n",
       "      <td>State</td>\n",
       "      <td>POLYGON ((10.07162 53.71823, 10.0715 53.72192,...</td>\n",
       "    </tr>\n",
       "    <tr>\n",
       "      <th>6</th>\n",
       "      <td>DE-HE</td>\n",
       "      <td>Hessen</td>\n",
       "      <td>State</td>\n",
       "      <td>POLYGON ((9.49877 51.63152, 9.50474 51.62795, ...</td>\n",
       "    </tr>\n",
       "    <tr>\n",
       "      <th>7</th>\n",
       "      <td>DE-MV</td>\n",
       "      <td>Mecklenburg-Vorpommern</td>\n",
       "      <td>State</td>\n",
       "      <td>MULTIPOLYGON (((14.26472 53.71069, 14.26472 53...</td>\n",
       "    </tr>\n",
       "    <tr>\n",
       "      <th>8</th>\n",
       "      <td>DE-NI</td>\n",
       "      <td>Niedersachsen</td>\n",
       "      <td>State</td>\n",
       "      <td>MULTIPOLYGON (((6.86528 53.59597, 6.86528 53.5...</td>\n",
       "    </tr>\n",
       "    <tr>\n",
       "      <th>9</th>\n",
       "      <td>DE-NW</td>\n",
       "      <td>Nordrhein-Westfalen</td>\n",
       "      <td>State</td>\n",
       "      <td>POLYGON ((8.66628 52.52528, 8.67277 52.51795, ...</td>\n",
       "    </tr>\n",
       "    <tr>\n",
       "      <th>10</th>\n",
       "      <td>DE-RP</td>\n",
       "      <td>Rheinland-Pfalz</td>\n",
       "      <td>State</td>\n",
       "      <td>POLYGON ((7.79963 50.94302, 7.81179 50.93973, ...</td>\n",
       "    </tr>\n",
       "    <tr>\n",
       "      <th>11</th>\n",
       "      <td>DE-SL</td>\n",
       "      <td>Saarland</td>\n",
       "      <td>State</td>\n",
       "      <td>POLYGON ((7.03796 49.64338, 7.0559 49.63674, 7...</td>\n",
       "    </tr>\n",
       "    <tr>\n",
       "      <th>12</th>\n",
       "      <td>DE-ST</td>\n",
       "      <td>Sachsen-Anhalt</td>\n",
       "      <td>State</td>\n",
       "      <td>POLYGON ((11.63251 53.01641, 11.63239 53.00897...</td>\n",
       "    </tr>\n",
       "    <tr>\n",
       "      <th>13</th>\n",
       "      <td>DE-SN</td>\n",
       "      <td>Sachsen</td>\n",
       "      <td>State</td>\n",
       "      <td>POLYGON ((12.878 51.6727, 12.87185 51.6691, 12...</td>\n",
       "    </tr>\n",
       "    <tr>\n",
       "      <th>14</th>\n",
       "      <td>DE-SH</td>\n",
       "      <td>Schleswig-Holstein</td>\n",
       "      <td>State</td>\n",
       "      <td>MULTIPOLYGON (((8.68972 54.06681, 8.68972 54.0...</td>\n",
       "    </tr>\n",
       "    <tr>\n",
       "      <th>15</th>\n",
       "      <td>DE-TH</td>\n",
       "      <td>Thüringen</td>\n",
       "      <td>State</td>\n",
       "      <td>POLYGON ((10.77189 51.64491, 10.78391 51.64098...</td>\n",
       "    </tr>\n",
       "  </tbody>\n",
       "</table>\n",
       "</div>"
      ],
      "text/plain": [
       "       id                    name   type  \\\n",
       "0   DE-BW       Baden-Württemberg  State   \n",
       "1   DE-BY                  Bayern  State   \n",
       "2   DE-BE                  Berlin  State   \n",
       "3   DE-BB             Brandenburg  State   \n",
       "4   DE-HB                  Bremen  State   \n",
       "5   DE-HH                 Hamburg  State   \n",
       "6   DE-HE                  Hessen  State   \n",
       "7   DE-MV  Mecklenburg-Vorpommern  State   \n",
       "8   DE-NI           Niedersachsen  State   \n",
       "9   DE-NW     Nordrhein-Westfalen  State   \n",
       "10  DE-RP         Rheinland-Pfalz  State   \n",
       "11  DE-SL                Saarland  State   \n",
       "12  DE-ST          Sachsen-Anhalt  State   \n",
       "13  DE-SN                 Sachsen  State   \n",
       "14  DE-SH      Schleswig-Holstein  State   \n",
       "15  DE-TH               Thüringen  State   \n",
       "\n",
       "                                             geometry  \n",
       "0   MULTIPOLYGON (((8.70837 47.71556, 8.70918 47.7...  \n",
       "1   POLYGON ((10.13386 50.55, 10.1398 50.54252, 10...  \n",
       "2   POLYGON ((13.16181 52.59442, 13.174 52.59425, ...  \n",
       "3   POLYGON ((13.87951 53.50107, 13.87927 53.49908...  \n",
       "4   POLYGON ((8.98545 53.12822, 8.97316 53.12799, ...  \n",
       "5   POLYGON ((10.07162 53.71823, 10.0715 53.72192,...  \n",
       "6   POLYGON ((9.49877 51.63152, 9.50474 51.62795, ...  \n",
       "7   MULTIPOLYGON (((14.26472 53.71069, 14.26472 53...  \n",
       "8   MULTIPOLYGON (((6.86528 53.59597, 6.86528 53.5...  \n",
       "9   POLYGON ((8.66628 52.52528, 8.67277 52.51795, ...  \n",
       "10  POLYGON ((7.79963 50.94302, 7.81179 50.93973, ...  \n",
       "11  POLYGON ((7.03796 49.64338, 7.0559 49.63674, 7...  \n",
       "12  POLYGON ((11.63251 53.01641, 11.63239 53.00897...  \n",
       "13  POLYGON ((12.878 51.6727, 12.87185 51.6691, 12...  \n",
       "14  MULTIPOLYGON (((8.68972 54.06681, 8.68972 54.0...  \n",
       "15  POLYGON ((10.77189 51.64491, 10.78391 51.64098...  "
      ]
     },
     "execution_count": 6,
     "metadata": {},
     "output_type": "execute_result"
    }
   ],
   "source": [
    "bland = gpd.read_file(\"https://raw.githubusercontent.com/isellsoap/deutschlandGeoJSON/main/2_bundeslaender/1_sehr_hoch.geo.json\")\n",
    "bland#[15:]"
   ]
  },
  {
   "cell_type": "code",
   "execution_count": 7,
   "id": "8eccb110",
   "metadata": {},
   "outputs": [
    {
     "name": "stdout",
     "output_type": "stream",
     "text": [
      "▶️ Starte Verarbeitung für DE-BW...\n"
     ]
    },
    {
     "name": "stderr",
     "output_type": "stream",
     "text": [
      "🧩 DE-BW: 100%|██████████| 13618/13618 [28:39<00:00,  7.92it/s]\n"
     ]
    },
    {
     "name": "stdout",
     "output_type": "stream",
     "text": [
      "✔ Parquet saved to: output/mapillary_traffic-signs_DE-BW_2025-10-11.parquet\n",
      "✔ Gzipped GeoJSON saved to: output/mapillary_traffic-signs_DE-BW_2025-10-11.geojson.gz\n",
      "▶️ Starte Verarbeitung für DE-BY...\n"
     ]
    },
    {
     "name": "stderr",
     "output_type": "stream",
     "text": [
      "🧩 DE-BY: 100%|██████████| 27315/27315 [57:25<00:00,  7.93it/s]  \n"
     ]
    },
    {
     "name": "stdout",
     "output_type": "stream",
     "text": [
      "✔ Parquet saved to: output/mapillary_traffic-signs_DE-BY_2025-10-11.parquet\n",
      "✔ Gzipped GeoJSON saved to: output/mapillary_traffic-signs_DE-BY_2025-10-11.geojson.gz\n",
      "▶️ Starte Verarbeitung für DE-BE...\n"
     ]
    },
    {
     "name": "stderr",
     "output_type": "stream",
     "text": [
      "🧩 DE-BE: 100%|██████████| 399/399 [01:17<00:00,  5.12it/s]\n"
     ]
    },
    {
     "name": "stdout",
     "output_type": "stream",
     "text": [
      "✔ Parquet saved to: output/mapillary_traffic-signs_DE-BE_2025-10-11.parquet\n",
      "✔ Gzipped GeoJSON saved to: output/mapillary_traffic-signs_DE-BE_2025-10-11.geojson.gz\n",
      "▶️ Starte Verarbeitung für DE-BB...\n"
     ]
    },
    {
     "name": "stderr",
     "output_type": "stream",
     "text": [
      "🧩 DE-BB: 100%|██████████| 13255/13255 [27:13<00:00,  8.11it/s]\n"
     ]
    },
    {
     "name": "stdout",
     "output_type": "stream",
     "text": [
      "✔ Parquet saved to: output/mapillary_traffic-signs_DE-BB_2025-10-11.parquet\n",
      "✔ Gzipped GeoJSON saved to: output/mapillary_traffic-signs_DE-BB_2025-10-11.geojson.gz\n",
      "▶️ Starte Verarbeitung für DE-HB...\n"
     ]
    },
    {
     "name": "stderr",
     "output_type": "stream",
     "text": [
      "🧩 DE-HB: 100%|██████████| 142/142 [00:19<00:00,  7.46it/s]\n"
     ]
    },
    {
     "name": "stdout",
     "output_type": "stream",
     "text": [
      "✔ Parquet saved to: output/mapillary_traffic-signs_DE-HB_2025-10-11.parquet\n",
      "✔ Gzipped GeoJSON saved to: output/mapillary_traffic-signs_DE-HB_2025-10-11.geojson.gz\n",
      "▶️ Starte Verarbeitung für DE-HH...\n"
     ]
    },
    {
     "name": "stderr",
     "output_type": "stream",
     "text": [
      "🧩 DE-HH: 100%|██████████| 356/356 [00:51<00:00,  6.86it/s]\n"
     ]
    },
    {
     "name": "stdout",
     "output_type": "stream",
     "text": [
      "✔ Parquet saved to: output/mapillary_traffic-signs_DE-HH_2025-10-11.parquet\n",
      "✔ Gzipped GeoJSON saved to: output/mapillary_traffic-signs_DE-HH_2025-10-11.geojson.gz\n",
      "▶️ Starte Verarbeitung für DE-HE...\n"
     ]
    },
    {
     "name": "stderr",
     "output_type": "stream",
     "text": [
      "🧩 DE-HE: 100%|██████████| 8699/8699 [18:00<00:00,  8.05it/s]\n"
     ]
    },
    {
     "name": "stdout",
     "output_type": "stream",
     "text": [
      "✔ Parquet saved to: output/mapillary_traffic-signs_DE-HE_2025-10-11.parquet\n",
      "✔ Gzipped GeoJSON saved to: output/mapillary_traffic-signs_DE-HE_2025-10-11.geojson.gz\n",
      "▶️ Starte Verarbeitung für DE-MV...\n"
     ]
    },
    {
     "name": "stderr",
     "output_type": "stream",
     "text": [
      "🧩 DE-MV: 100%|██████████| 11053/11053 [21:58<00:00,  8.38it/s]\n"
     ]
    },
    {
     "name": "stdout",
     "output_type": "stream",
     "text": [
      "✔ Parquet saved to: output/mapillary_traffic-signs_DE-MV_2025-10-11.parquet\n",
      "✔ Gzipped GeoJSON saved to: output/mapillary_traffic-signs_DE-MV_2025-10-11.geojson.gz\n",
      "▶️ Starte Verarbeitung für DE-NI...\n"
     ]
    },
    {
     "name": "stderr",
     "output_type": "stream",
     "text": [
      "🧩 DE-NI: 100%|██████████| 21799/21799 [45:14<00:00,  8.03it/s] \n"
     ]
    },
    {
     "name": "stdout",
     "output_type": "stream",
     "text": [
      "✔ Parquet saved to: output/mapillary_traffic-signs_DE-NI_2025-10-11.parquet\n",
      "✔ Gzipped GeoJSON saved to: output/mapillary_traffic-signs_DE-NI_2025-10-11.geojson.gz\n",
      "▶️ Starte Verarbeitung für DE-NW...\n"
     ]
    },
    {
     "name": "stderr",
     "output_type": "stream",
     "text": [
      "🧩 DE-NW: 100%|██████████| 14748/14748 [30:52<00:00,  7.96it/s]\n"
     ]
    },
    {
     "name": "stdout",
     "output_type": "stream",
     "text": [
      "✔ Parquet saved to: output/mapillary_traffic-signs_DE-NW_2025-10-11.parquet\n",
      "✔ Gzipped GeoJSON saved to: output/mapillary_traffic-signs_DE-NW_2025-10-11.geojson.gz\n",
      "▶️ Starte Verarbeitung für DE-RP...\n"
     ]
    },
    {
     "name": "stderr",
     "output_type": "stream",
     "text": [
      "🧩 DE-RP: 100%|██████████| 8003/8003 [16:28<00:00,  8.09it/s]\n"
     ]
    },
    {
     "name": "stdout",
     "output_type": "stream",
     "text": [
      "✔ Parquet saved to: output/mapillary_traffic-signs_DE-RP_2025-10-11.parquet\n",
      "✔ Gzipped GeoJSON saved to: output/mapillary_traffic-signs_DE-RP_2025-10-11.geojson.gz\n",
      "▶️ Starte Verarbeitung für DE-SL...\n"
     ]
    },
    {
     "name": "stderr",
     "output_type": "stream",
     "text": [
      "🧩 DE-SL: 100%|██████████| 1028/1028 [02:10<00:00,  7.88it/s]\n"
     ]
    },
    {
     "name": "stdout",
     "output_type": "stream",
     "text": [
      "✔ Parquet saved to: output/mapillary_traffic-signs_DE-SL_2025-10-11.parquet\n",
      "✔ Gzipped GeoJSON saved to: output/mapillary_traffic-signs_DE-SL_2025-10-11.geojson.gz\n",
      "▶️ Starte Verarbeitung für DE-ST...\n"
     ]
    },
    {
     "name": "stderr",
     "output_type": "stream",
     "text": [
      "🧩 DE-ST: 100%|██████████| 9075/9075 [18:07<00:00,  8.35it/s]\n"
     ]
    },
    {
     "name": "stdout",
     "output_type": "stream",
     "text": [
      "✔ Parquet saved to: output/mapillary_traffic-signs_DE-ST_2025-10-11.parquet\n",
      "✔ Gzipped GeoJSON saved to: output/mapillary_traffic-signs_DE-ST_2025-10-11.geojson.gz\n",
      "▶️ Starte Verarbeitung für DE-SN...\n"
     ]
    },
    {
     "name": "stderr",
     "output_type": "stream",
     "text": [
      "🧩 DE-SN: 100%|██████████| 7778/7778 [16:06<00:00,  8.04it/s]\n"
     ]
    },
    {
     "name": "stdout",
     "output_type": "stream",
     "text": [
      "✔ Parquet saved to: output/mapillary_traffic-signs_DE-SN_2025-10-11.parquet\n",
      "✔ Gzipped GeoJSON saved to: output/mapillary_traffic-signs_DE-SN_2025-10-11.geojson.gz\n",
      "▶️ Starte Verarbeitung für DE-SH...\n"
     ]
    },
    {
     "name": "stderr",
     "output_type": "stream",
     "text": [
      "🧩 DE-SH: 100%|██████████| 7645/7645 [15:27<00:00,  8.24it/s]\n"
     ]
    },
    {
     "name": "stdout",
     "output_type": "stream",
     "text": [
      "✔ Parquet saved to: output/mapillary_traffic-signs_DE-SH_2025-10-11.parquet\n",
      "✔ Gzipped GeoJSON saved to: output/mapillary_traffic-signs_DE-SH_2025-10-11.geojson.gz\n",
      "▶️ Starte Verarbeitung für DE-TH...\n"
     ]
    },
    {
     "name": "stderr",
     "output_type": "stream",
     "text": [
      "🧩 DE-TH: 100%|██████████| 6813/6813 [14:22<00:00,  7.90it/s]\n"
     ]
    },
    {
     "name": "stdout",
     "output_type": "stream",
     "text": [
      "✔ Parquet saved to: output/mapillary_traffic-signs_DE-TH_2025-10-11.parquet\n",
      "✔ Gzipped GeoJSON saved to: output/mapillary_traffic-signs_DE-TH_2025-10-11.geojson.gz\n"
     ]
    }
   ],
   "source": [
    "\n",
    "\n",
    "# Alle Bundesländer im tile_cache verarbeiten\n",
    "\n",
    "bland = gpd.read_file(\"https://raw.githubusercontent.com/isellsoap/deutschlandGeoJSON/main/2_bundeslaender/1_sehr_hoch.geo.json\")\n",
    "\n",
    "#for _, row in bland[:1].iterrows():\n",
    "#for _, row in bland[15:].iterrows():\n",
    "for _, row in bland.iterrows():\n",
    "\n",
    "    b_id = row[\"id\"]\n",
    "    name = row[\"name\"]\n",
    "\n",
    "    # Nur verarbeiten, wenn eine JSON-Datei existiert\n",
    "    tile_json_path = os.path.join(\"output/tile_cache\", f\"{b_id}_tiles.json\")\n",
    "    if not os.path.exists(tile_json_path):\n",
    "        print(f\"⏩ Überspringe {b_id}, keine Tiles gefunden.\")\n",
    "        continue\n",
    "\n",
    "    process_bundesland(b_id, region_name=name)"
   ]
  },
  {
   "cell_type": "code",
   "execution_count": null,
   "id": "3ce2b771",
   "metadata": {},
   "outputs": [],
   "source": []
  }
 ],
 "metadata": {
  "kernelspec": {
   "display_name": "venv",
   "language": "python",
   "name": "python3"
  },
  "language_info": {
   "codemirror_mode": {
    "name": "ipython",
    "version": 3
   },
   "file_extension": ".py",
   "mimetype": "text/x-python",
   "name": "python",
   "nbconvert_exporter": "python",
   "pygments_lexer": "ipython3",
   "version": "3.12.3"
  }
 },
 "nbformat": 4,
 "nbformat_minor": 5
}
