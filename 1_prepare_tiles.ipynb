{
 "cells": [
  {
   "cell_type": "code",
   "execution_count": 1,
   "id": "b5842e53",
   "metadata": {},
   "outputs": [],
   "source": [
    "import geopandas as gpd\n",
    "import mercantile\n",
    "from shapely.geometry import box, Polygon, MultiPolygon\n",
    "import matplotlib.pyplot as plt\n",
    "from tqdm import tqdm\n",
    "import os\n",
    "import json"
   ]
  },
  {
   "cell_type": "code",
   "execution_count": 2,
   "id": "8f676fb5",
   "metadata": {},
   "outputs": [],
   "source": [
    "\n",
    "def get_bbox_from_polygon(polygon):\n",
    "    \"\"\"Return bounding box (minx, miny, maxx, maxy) of a polygon.\"\"\"\n",
    "    return polygon.bounds\n",
    "\n",
    "\n",
    "def get_tiles_from_bbox(bbox, zoom=14):\n",
    "    \"\"\"Return mercantile tile list for a bbox at a given zoom.\"\"\"\n",
    "    minx, miny, maxx, maxy = bbox\n",
    "    return list(mercantile.tiles(minx, miny, maxx, maxy, zooms=[zoom]))\n",
    "\n",
    "\n",
    "def filter_tiles_by_polygon(tiles, polygon):\n",
    "    \"\"\"Return only those tiles whose centroid lies inside the polygon.\"\"\"\n",
    "    filtered = []\n",
    "    for tile in tqdm(tiles, desc=\"Filtering tiles\"):\n",
    "        bounds = mercantile.bounds(tile)\n",
    "        tile_box = box(bounds.west, bounds.south, bounds.east, bounds.north)\n",
    "        centroid = tile_box.centroid\n",
    "        if polygon.intersects(centroid):\n",
    "            filtered.append(tile)\n",
    "    return filtered\n",
    "\n",
    "\n",
    "def plot_tiles_and_boundary(filtered_tiles, boundary_polygon, bundesland_name=\"Region\", save_path=None, output_folder=\"output\",show=False):\n",
    "    \"\"\"Plot the filtered tiles and boundary together using projected CRS.\"\"\"\n",
    "    # Erstelle GeoDataFrame aus Tiles\n",
    "    tile_polygons = []\n",
    "    for tile in filtered_tiles:\n",
    "        bounds = mercantile.bounds(tile)\n",
    "        tile_polygons.append(Polygon([\n",
    "            (bounds.west, bounds.south),\n",
    "            (bounds.west, bounds.north),\n",
    "            (bounds.east, bounds.north),\n",
    "            (bounds.east, bounds.south)\n",
    "        ]))\n",
    "\n",
    "    tile_gdf = gpd.GeoDataFrame(geometry=tile_polygons, crs=\"EPSG:4326\")\n",
    "    boundary_gdf = gpd.GeoDataFrame(geometry=[boundary_polygon], crs=\"EPSG:4326\")\n",
    "\n",
    "    # Projiziere beides z. B. nach EPSG:3857\n",
    "    tile_gdf_proj = tile_gdf.to_crs(\"EPSG:3857\")\n",
    "    boundary_gdf_proj = boundary_gdf.to_crs(\"EPSG:3857\")\n",
    "\n",
    "    # Plot\n",
    "    fig, ax = plt.subplots(figsize=(8, 8))\n",
    "    tile_gdf_proj.plot(ax=ax, color='green', edgecolor='black', alpha=0.5)\n",
    "    boundary_gdf_proj.plot(ax=ax, color='blue', alpha=0.3, edgecolor='black')\n",
    "\n",
    "    ax.set_axis_off()\n",
    "    ax.set_title(f\"{bundesland_name} – Tile Coverage ({len(filtered_tiles)} tiles)\")\n",
    "\n",
    "    if save_path is not None:\n",
    "        os.makedirs(output_folder, exist_ok=True)\n",
    "        full_path = os.path.join(output_folder, save_path)\n",
    "        plt.savefig(full_path, bbox_inches='tight', pad_inches=0.1)\n",
    "        print(f\"✔️ Plot saved to: {full_path}\")\n",
    "    \n",
    "    if show:\n",
    "        plt.show()\n",
    "    \n",
    "    plt.close(fig)  # 🧼 Wichtig: Figure schließen, um Speicher zu sparen\n",
    "\n",
    "\n",
    "\n"
   ]
  },
  {
   "cell_type": "code",
   "execution_count": 3,
   "id": "777527ea",
   "metadata": {},
   "outputs": [],
   "source": [
    "# # Lade Bundesländer\n",
    "# bland = gpd.read_file(\"https://raw.githubusercontent.com/isellsoap/deutschlandGeoJSON/main/2_bundeslaender/1_sehr_hoch.geo.json\")\n",
    "\n",
    "# # Wähle Berlin aus\n",
    "# berlin = bland[bland[\"id\"] == \"DE-BE\"].dissolve().geometry.iloc[0]\n",
    "\n",
    "# # Berechne Tiles\n",
    "# bbox = get_bbox_from_polygon(berlin)\n",
    "# tiles = get_tiles_from_bbox(bbox, zoom=14)\n",
    "# filtered_tiles = filter_tiles_by_polygon(tiles, berlin)\n",
    "\n",
    "# # Plot\n",
    "# plot_tiles_and_boundary(filtered_tiles, \n",
    "#                         berlin, \n",
    "#                         bundesland_name=\"Berlin\",\n",
    "#                         save_path=\"DE-BE_tiles.png\")\n"
   ]
  },
  {
   "cell_type": "code",
   "execution_count": null,
   "id": "54b655b8",
   "metadata": {},
   "outputs": [
    {
     "name": "stderr",
     "output_type": "stream",
     "text": [
      "Filtering tiles: 100%|██████████| 21528/21528 [00:00<00:00, 34272.15it/s]\n"
     ]
    },
    {
     "name": "stdout",
     "output_type": "stream",
     "text": [
      "DE-BW – Baden-Württemberg: 13618 tiles\n",
      "✔️ Tiles saved to: output/tile_cache/DE-BW_tiles.json\n",
      "✔️ Plot saved to: output/tile_cache/DE-BW_tiles.png\n"
     ]
    },
    {
     "name": "stderr",
     "output_type": "stream",
     "text": [
      "Filtering tiles: 100%|██████████| 50609/50609 [00:01<00:00, 37364.96it/s]\n"
     ]
    },
    {
     "name": "stdout",
     "output_type": "stream",
     "text": [
      "DE-BY – Bayern: 27315 tiles\n",
      "✔️ Tiles saved to: output/tile_cache/DE-BY_tiles.json\n",
      "✔️ Plot saved to: output/tile_cache/DE-BY_tiles.png\n"
     ]
    },
    {
     "name": "stderr",
     "output_type": "stream",
     "text": [
      "Filtering tiles: 100%|██████████| 832/832 [00:00<00:00, 49911.48it/s]\n"
     ]
    },
    {
     "name": "stdout",
     "output_type": "stream",
     "text": [
      "DE-BE – Berlin: 399 tiles\n",
      "✔️ Tiles saved to: output/tile_cache/DE-BE_tiles.json\n",
      "✔️ Plot saved to: output/tile_cache/DE-BE_tiles.png\n"
     ]
    },
    {
     "name": "stderr",
     "output_type": "stream",
     "text": [
      "Filtering tiles: 100%|██████████| 26235/26235 [00:00<00:00, 43218.83it/s]\n"
     ]
    },
    {
     "name": "stdout",
     "output_type": "stream",
     "text": [
      "DE-BB – Brandenburg: 13255 tiles\n",
      "✔️ Tiles saved to: output/tile_cache/DE-BB_tiles.json\n",
      "✔️ Plot saved to: output/tile_cache/DE-BB_tiles.png\n"
     ]
    },
    {
     "name": "stderr",
     "output_type": "stream",
     "text": [
      "Filtering tiles: 100%|██████████| 408/408 [00:00<00:00, 40875.08it/s]\n"
     ]
    },
    {
     "name": "stdout",
     "output_type": "stream",
     "text": [
      "DE-HB – Bremen: 142 tiles\n",
      "✔️ Tiles saved to: output/tile_cache/DE-HB_tiles.json\n",
      "✔️ Plot saved to: output/tile_cache/DE-HB_tiles.png\n"
     ]
    },
    {
     "name": "stderr",
     "output_type": "stream",
     "text": [
      "Filtering tiles: 100%|██████████| 783/783 [00:00<00:00, 59118.30it/s]"
     ]
    },
    {
     "name": "stdout",
     "output_type": "stream",
     "text": [
      "DE-HH – Hamburg: 356 tiles\n",
      "✔️ Tiles saved to: output/tile_cache/DE-HH_tiles.json\n"
     ]
    },
    {
     "name": "stderr",
     "output_type": "stream",
     "text": [
      "\n"
     ]
    },
    {
     "name": "stdout",
     "output_type": "stream",
     "text": [
      "✔️ Plot saved to: output/tile_cache/DE-HH_tiles.png\n"
     ]
    },
    {
     "name": "stderr",
     "output_type": "stream",
     "text": [
      "Filtering tiles: 100%|██████████| 18144/18144 [00:00<00:00, 47540.56it/s]\n"
     ]
    },
    {
     "name": "stdout",
     "output_type": "stream",
     "text": [
      "DE-HE – Hessen: 8699 tiles\n",
      "✔️ Tiles saved to: output/tile_cache/DE-HE_tiles.json\n",
      "✔️ Plot saved to: output/tile_cache/DE-HE_tiles.png\n"
     ]
    },
    {
     "name": "stderr",
     "output_type": "stream",
     "text": [
      "Filtering tiles: 100%|██████████| 21350/21350 [00:01<00:00, 13347.09it/s]\n"
     ]
    },
    {
     "name": "stdout",
     "output_type": "stream",
     "text": [
      "DE-MV – Mecklenburg-Vorpommern: 11053 tiles\n",
      "✔️ Tiles saved to: output/tile_cache/DE-MV_tiles.json\n",
      "✔️ Plot saved to: output/tile_cache/DE-MV_tiles.png\n"
     ]
    },
    {
     "name": "stderr",
     "output_type": "stream",
     "text": [
      "Filtering tiles: 100%|██████████| 45828/45828 [00:01<00:00, 24280.19it/s]\n"
     ]
    },
    {
     "name": "stdout",
     "output_type": "stream",
     "text": [
      "DE-NI – Niedersachsen: 21799 tiles\n",
      "✔️ Tiles saved to: output/tile_cache/DE-NI_tiles.json\n",
      "✔️ Plot saved to: output/tile_cache/DE-NI_tiles.png\n"
     ]
    },
    {
     "name": "stderr",
     "output_type": "stream",
     "text": [
      "Filtering tiles: 100%|██████████| 26568/26568 [00:00<00:00, 45574.78it/s]\n"
     ]
    },
    {
     "name": "stdout",
     "output_type": "stream",
     "text": [
      "DE-NW – Nordrhein-Westfalen: 14748 tiles\n",
      "✔️ Tiles saved to: output/tile_cache/DE-NW_tiles.json\n",
      "✔️ Plot saved to: output/tile_cache/DE-NW_tiles.png\n"
     ]
    },
    {
     "name": "stderr",
     "output_type": "stream",
     "text": [
      "Filtering tiles: 100%|██████████| 15540/15540 [00:00<00:00, 50714.02it/s]\n"
     ]
    },
    {
     "name": "stdout",
     "output_type": "stream",
     "text": [
      "DE-RP – Rheinland-Pfalz: 8003 tiles\n",
      "✔️ Tiles saved to: output/tile_cache/DE-RP_tiles.json\n",
      "✔️ Plot saved to: output/tile_cache/DE-RP_tiles.png\n"
     ]
    },
    {
     "name": "stderr",
     "output_type": "stream",
     "text": [
      "Filtering tiles: 100%|██████████| 1862/1862 [00:00<00:00, 58681.43it/s]"
     ]
    },
    {
     "name": "stdout",
     "output_type": "stream",
     "text": [
      "DE-SL – Saarland: 1028 tiles\n",
      "✔️ Tiles saved to: output/tile_cache/DE-SL_tiles.json\n"
     ]
    },
    {
     "name": "stderr",
     "output_type": "stream",
     "text": [
      "\n"
     ]
    },
    {
     "name": "stdout",
     "output_type": "stream",
     "text": [
      "✔️ Plot saved to: output/tile_cache/DE-SL_tiles.png\n"
     ]
    },
    {
     "name": "stderr",
     "output_type": "stream",
     "text": [
      "Filtering tiles: 100%|██████████| 18755/18755 [00:00<00:00, 51458.38it/s]\n"
     ]
    },
    {
     "name": "stdout",
     "output_type": "stream",
     "text": [
      "DE-ST – Sachsen-Anhalt: 9075 tiles\n",
      "✔️ Tiles saved to: output/tile_cache/DE-ST_tiles.json\n",
      "✔️ Plot saved to: output/tile_cache/DE-ST_tiles.png\n"
     ]
    },
    {
     "name": "stderr",
     "output_type": "stream",
     "text": [
      "Filtering tiles: 100%|██████████| 15805/15805 [00:00<00:00, 45151.00it/s]\n"
     ]
    },
    {
     "name": "stdout",
     "output_type": "stream",
     "text": [
      "DE-SN – Sachsen: 7778 tiles\n",
      "✔️ Tiles saved to: output/tile_cache/DE-SN_tiles.json\n",
      "✔️ Plot saved to: output/tile_cache/DE-SN_tiles.png\n"
     ]
    },
    {
     "name": "stderr",
     "output_type": "stream",
     "text": [
      "Filtering tiles:  80%|████████  | 16875/21014 [00:01<00:00, 14791.04it/s]"
     ]
    }
   ],
   "source": [
    "# Iterate through all Bundesländer\n",
    "\n",
    "\n",
    "def save_tiles_to_json(tiles, bundesland_id, output_folder=\"output/tile_cache\"):\n",
    "    os.makedirs(output_folder, exist_ok=True)\n",
    "    tile_list = [{\"x\": t.x, \"y\": t.y, \"z\": t.z} for t in tiles]\n",
    "    path = os.path.join(output_folder, f\"{bundesland_id}_tiles.json\")\n",
    "    with open(path, \"w\") as f:\n",
    "        json.dump(tile_list, f)\n",
    "    print(f\"✔️ Tiles saved to: {path}\")\n",
    "\n",
    "\n",
    "# Lade Bundesländer\n",
    "bland = gpd.read_file(\"https://raw.githubusercontent.com/isellsoap/deutschlandGeoJSON/main/2_bundeslaender/1_sehr_hoch.geo.json\")\n",
    "\n",
    "\n",
    "for _, row in bland.iterrows():\n",
    "    name = row[\"name\"]\n",
    "    b_id = row[\"id\"]  # <- z. B. 'DE-BE'\n",
    "    polygon = row[\"geometry\"]\n",
    "\n",
    "    bbox = get_bbox_from_polygon(polygon)\n",
    "    tiles = get_tiles_from_bbox(bbox, zoom=14)\n",
    "    filtered_tiles = filter_tiles_by_polygon(tiles, polygon)\n",
    "\n",
    "    print(f\"{b_id} – {name}: {len(filtered_tiles)} tiles\")\n",
    "\n",
    "    save_tiles_to_json(filtered_tiles, b_id)\n",
    "    \n",
    "    plot_tiles_and_boundary(\n",
    "        filtered_tiles,\n",
    "        polygon,\n",
    "        bundesland_name=name,\n",
    "        save_path=f\"{b_id}_tiles.png\",\n",
    "        output_folder=\"output/tile_cache\",          # Folder goes here\n",
    "        show=False\n",
    "    )\n"
   ]
  }
 ],
 "metadata": {
  "kernelspec": {
   "display_name": "venv",
   "language": "python",
   "name": "python3"
  },
  "language_info": {
   "codemirror_mode": {
    "name": "ipython",
    "version": 3
   },
   "file_extension": ".py",
   "mimetype": "text/x-python",
   "name": "python",
   "nbconvert_exporter": "python",
   "pygments_lexer": "ipython3",
   "version": "3.12.3"
  }
 },
 "nbformat": 4,
 "nbformat_minor": 5
}
