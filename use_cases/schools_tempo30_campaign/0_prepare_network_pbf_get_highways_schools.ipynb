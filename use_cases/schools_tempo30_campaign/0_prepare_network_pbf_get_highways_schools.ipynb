{
 "cells": [
  {
   "cell_type": "code",
   "execution_count": 2,
   "id": "fe3c8c5a",
   "metadata": {},
   "outputs": [],
   "source": [
    "import os\n",
    "import requests\n",
    "import subprocess\n",
    "\n",
    "#from pyrosm import OSM\n",
    "import geopandas as gpd\n",
    "import pandas as pd\n",
    "\n",
    "from pathlib import Path\n"
   ]
  },
  {
   "cell_type": "code",
   "execution_count": 3,
   "id": "fd278a0c",
   "metadata": {},
   "outputs": [
    {
     "name": "stdout",
     "output_type": "stream",
     "text": [
      "Osmium version: osmium version 1.16.0\n",
      "libosmium version 2.20.0\n",
      "Supported PBF compression types: none zlib lz4\n",
      "\n",
      "Copyright (C) 2013-2023  Jochen Topf <jochen@topf.org>\n",
      "License: GNU GENERAL PUBLIC LICENSE Version 3 <https://gnu.org/licenses/gpl.html>.\n",
      "This is free software: you are free to change and redistribute it.\n",
      "There is NO WARRANTY, to the extent permitted by law.\n"
     ]
    }
   ],
   "source": [
    "## check if osmium is installed\n",
    "\n",
    "try:\n",
    "    result = subprocess.run(['osmium', '--version'], check=True, capture_output=True, text=True)\n",
    "    print(f\"Osmium version: {result.stdout.strip()}\")\n",
    "except subprocess.CalledProcessError as e:\n",
    "    print(f\"Error running Osmium: {e}\")"
   ]
  },
  {
   "cell_type": "markdown",
   "id": "0398c3d1",
   "metadata": {},
   "source": [
    "what this does:\n",
    "\n",
    "1. Download OSM data from geofabrik\n",
    "2. Extract  highways using osmium\n",
    "3. Convert pbf to geojson.gz and add tags using ogr2ogr\n",
    "3. Convert geojson.gz to pmtiles using tippecanoe\n",
    "\n"
   ]
  },
  {
   "cell_type": "code",
   "execution_count": 4,
   "id": "f7293c92-acd4-46dd-a8ee-fcc04821b478",
   "metadata": {},
   "outputs": [
    {
     "name": "stdout",
     "output_type": "stream",
     "text": [
      "🔹 Running:  osmium tags-filter ../utils/osm_geofabrik_pbf/germany-250805.osm.pbf w/highway=trunk,primary,secondary,tertiary,trunk_link,primary_link,secondary_link,tertiary_link,unclassified,residential,service,road -o processed_osm_files/processed_hw5030_germany_250805.pbf\n",
      "✅ Osmium processing complete! Files saved in 'processed_osm_files/'\n"
     ]
    }
   ],
   "source": [
    "\n",
    "#### Downloading OSM data from Geofabrik\n",
    "\n",
    "set_date = \"250805\" \n",
    "\n",
    "\n",
    "# #https://download.geofabrik.de/europe/germany/berlin-250401.osm.pbf\n",
    "# #\tgermany-250405.osm.pbf\n",
    "\n",
    "# def download_geofabrik_pbf(filename,base_url = \"https://download.geofabrik.de/europe/\"):\n",
    "#     folder_download = \"osm_geofabrik_pbf\"\n",
    "#     os.makedirs(folder_download, exist_ok=True)\n",
    "    \n",
    "#     #filename = \"germany-250401.osm.pbf\"\n",
    "#     file_path = os.path.join(folder_download, filename)\n",
    "#     file_url = base_url + filename\n",
    "    \n",
    "#     if os.path.exists(file_path):\n",
    "#         print(f\"File already exists: {file_path}, skipping download.\")\n",
    "#     else:\n",
    "#         print(f\"Downloading: {file_url}\")\n",
    "#         response = requests.get(file_url, stream=True, timeout=60)\n",
    "#         if response.status_code == 200:\n",
    "#             with open(file_path, \"wb\") as f:\n",
    "#                 for chunk in response.iter_content(chunk_size=1024):\n",
    "#                     f.write(chunk)\n",
    "#             print(f\"Downloaded: {file_path}\")\n",
    "#         else:\n",
    "#             print(f\"Failed to download {file_url} (Status code: {response.status_code})\")\n",
    "\n",
    "\n",
    "# osmium needs to be installed on your system in order to run this code/filtering\n",
    "# https://osmcode.org/osmium-tool/\n",
    "# for my win11 machine i used https://trac.osgeo.org/osgeo4w/\n",
    "\n",
    "def run_osmium(filename):\n",
    "    try:\n",
    "        folder_download = \"../utils/osm_geofabrik_pbf\"\n",
    "        folder_processed = \"processed_osm_files\"\n",
    "        os.makedirs(folder_processed, exist_ok=True)\n",
    "        \n",
    "        input_pbf = os.path.join(folder_download, filename)\n",
    "        filtered_pbf = os.path.join(folder_processed, f\"processed_hw5030_germany_{set_date}.pbf\")\n",
    "\n",
    "        # # Convert to Unix-style paths using forward slashes\n",
    "        # input_pbf = input_pbf.replace(\"\\\\\", \"/\")\n",
    "        # filtered_pbf = filtered_pbf.replace(\"\\\\\", \"/\")\n",
    "\n",
    "        if os.path.exists(filtered_pbf):\n",
    "            print(f\"Processed file already exists: {filtered_pbf}, skipping processing.\")\n",
    "            return\n",
    "\n",
    "        filter_command = [\n",
    "            \"osmium\", \"tags-filter\",\n",
    "            input_pbf,\n",
    "\n",
    "            # Straßen mit potenzieller Tempo 50/30\n",
    "            # \"w/highway=motorway,trunk,primary,secondary,tertiary,motorway_link,trunk_link,primary_link,secondary_link,tertiary_link,unclassified,residential,service,living_street,track,road\",\n",
    "            \"w/highway=trunk,primary,secondary,tertiary,trunk_link,primary_link,secondary_link,tertiary_link,unclassified,residential,service,road\",\n",
    "\n",
    "\n",
    "\n",
    "            \"-o\", filtered_pbf\n",
    "        ]\n",
    "        print(\"🔹 Running: \", \" \".join(filter_command))\n",
    "        subprocess.run(filter_command, check=True)\n",
    "\n",
    "        print(\"✅ Osmium processing complete! Files saved in 'processed_osm_files/'\")\n",
    "\n",
    "    except subprocess.CalledProcessError as e:\n",
    "        print(\"❌ Error running Osmium:\", e)\n",
    "\n",
    "\n",
    "\n",
    "\n",
    "filename = f\"germany-{set_date}.osm.pbf\"\n",
    "\n",
    "#download_geofabrik_pbf(filename )\n",
    "\n",
    "run_osmium(filename)\n"
   ]
  },
  {
   "cell_type": "code",
   "execution_count": null,
   "id": "3cf0bd4a",
   "metadata": {},
   "outputs": [],
   "source": []
  },
  {
   "cell_type": "code",
   "execution_count": null,
   "id": "62349736",
   "metadata": {},
   "outputs": [],
   "source": []
  },
  {
   "cell_type": "code",
   "execution_count": 5,
   "id": "e2500a6d",
   "metadata": {},
   "outputs": [],
   "source": [
    "### TO PArQUET (only works with special env, dont need it for tippecanoe)"
   ]
  },
  {
   "cell_type": "code",
   "execution_count": 1,
   "id": "238905af",
   "metadata": {},
   "outputs": [
    {
     "data": {
      "text/plain": [
       "'\\nNOTE: This script depends on GDAL being compiled with Apache Arrow/Parquet support.\\nNot all environments support this, so please read below before running.\\n\\nThere are two environments commonly used with this script:\\n\\n1. ✅ `gdal_parquet_env` (Conda):\\n   - Created using `conda` with GDAL, pyarrow, and parquet support from conda-forge\\n   - Supports exporting to `.parquet` using ogr2ogr\\n   - Required packages include: gdal, pyarrow, libgdal-arrow-parquet\\n\\n2. 🚫 `venv` (venv + pip):\\n   - Uses system GDAL or pip-installed bindings\\n   - **Does NOT support Parquet**, because GDAL was not built with Arrow/Parquet support\\n   - Running `ogr2ogr` with Parquet output will silently fail or show \"Parquet\" missing from `ogr2ogr --formats`\\n\\n👉 To check if your environment supports Parquet:\\n    `ogr2ogr --formats | grep -i parquet`\\n\\n💡 Recommendation:\\n    Use `gdal_parquet_env` or create a new Conda environment like:\\n    `conda create -n parquet_env -c conda-forge gdal pyarrow`\\n\\n'"
      ]
     },
     "execution_count": 1,
     "metadata": {},
     "output_type": "execute_result"
    }
   ],
   "source": [
    "\"\"\"\n",
    "NOTE: This script depends on GDAL being compiled with Apache Arrow/Parquet support.\n",
    "Not all environments support this, so please read below before running.\n",
    "\n",
    "There are two environments commonly used with this script:\n",
    "\n",
    "1. ✅ `gdal_parquet_env` (Conda):\n",
    "   - Created using `conda` with GDAL, pyarrow, and parquet support from conda-forge\n",
    "   - Supports exporting to `.parquet` using ogr2ogr\n",
    "   - Required packages include: gdal, pyarrow, libgdal-arrow-parquet\n",
    "\n",
    "2. 🚫 `venv` (venv + pip):\n",
    "   - Uses system GDAL or pip-installed bindings\n",
    "   - **Does NOT support Parquet**, because GDAL was not built with Arrow/Parquet support\n",
    "   - Running `ogr2ogr` with Parquet output will silently fail or show \"Parquet\" missing from `ogr2ogr --formats`\n",
    "\n",
    "👉 To check if your environment supports Parquet:\n",
    "    `ogr2ogr --formats | grep -i parquet`\n",
    "\n",
    "💡 Recommendation:\n",
    "    Use `gdal_parquet_env` or create a new Conda environment like:\n",
    "    `conda create -n parquet_env -c conda-forge gdal pyarrow`\n",
    "\n",
    "\"\"\"\n"
   ]
  },
  {
   "cell_type": "code",
   "execution_count": 1,
   "id": "26d52cca",
   "metadata": {},
   "outputs": [],
   "source": [
    "import subprocess\n",
    "from pathlib import Path\n",
    "import os\n",
    "\n",
    "def ogr2ogr_parquet(input_file, output_parquet, layer=\"lines\", select_fields=None, osmconf_path=None):\n",
    "    ogr2ogr_path = \"ogr2ogr\"  # Use system-installed ogr2ogr on WSL\n",
    "\n",
    "    input_file = Path(input_file).resolve()\n",
    "    output_parquet = Path(output_parquet).resolve()\n",
    "\n",
    "    cmd = [\n",
    "        ogr2ogr_path,\n",
    "        \"-f\", \"Parquet\",\n",
    "        str(output_parquet),\n",
    "        str(input_file),\n",
    "    ]\n",
    "\n",
    "    if layer:\n",
    "        cmd.append(layer)\n",
    "\n",
    "    #if select_fields:\n",
    "    #    cmd += [\"-select\", \",\".join(select_fields)]\n",
    "\n",
    "    # Prepare environment with optional OSM config path\n",
    "    env = os.environ.copy()\n",
    "    if osmconf_path:\n",
    "        env[\"OSM_CONFIG_FILE\"] = str(Path(osmconf_path).resolve())\n",
    "\n",
    "    print(\"Running:\", \" \".join(cmd))\n",
    "    try:\n",
    "        result = subprocess.run(\n",
    "            cmd,\n",
    "            check=True,\n",
    "            capture_output=True,\n",
    "            text=True,\n",
    "            env=env\n",
    "        )\n",
    "        print(result.stdout)\n",
    "    except subprocess.CalledProcessError as e:\n",
    "        print(\"❌ ogr2ogr failed:\")\n",
    "        print(\"STDERR:\", e.stderr)\n",
    "        print(\"STDOUT:\", e.stdout)\n",
    "        raise\n"
   ]
  },
  {
   "cell_type": "code",
   "execution_count": 2,
   "id": "d464f94a",
   "metadata": {},
   "outputs": [
    {
     "name": "stdout",
     "output_type": "stream",
     "text": [
      "Running: ogr2ogr -f Parquet /home/simon/mapillary_trafficsigns/use_cases/schools_tempo30_campaign/processed_osm_files/processed_hw5030_germany_250805.parquet /home/simon/mapillary_trafficsigns/use_cases/schools_tempo30_campaign/processed_osm_files/processed_hw5030_germany_250805.pbf lines\n",
      "0...10...20...30...40...50...60...70...80...90...100 - done in 00:00:54.\n",
      "\n"
     ]
    }
   ],
   "source": [
    "set_date = \"250805\" \n",
    "\n",
    "folder= \"processed_osm_files\"\n",
    "# os.makedirs(folder, exist_ok=True)\n",
    "\n",
    "input_pbf = Path(f\"{folder}/processed_hw5030_germany_{set_date}.pbf\")\n",
    "output_file = Path(f\"{folder}/processed_hw5030_germany_{set_date}.parquet\")\n",
    "osmconf_file = Path(f\"{folder}/osmconf_hw_ms.ini\")\n",
    "\n",
    "ogr2ogr_parquet(\n",
    "    input_pbf,\n",
    "    output_file,\n",
    "    osmconf_path=osmconf_file\n",
    ")"
   ]
  },
  {
   "cell_type": "code",
   "execution_count": null,
   "id": "84fe383f",
   "metadata": {},
   "outputs": [],
   "source": []
  },
  {
   "cell_type": "code",
   "execution_count": 5,
   "id": "bee43e57",
   "metadata": {},
   "outputs": [],
   "source": [
    "#------------------"
   ]
  },
  {
   "cell_type": "code",
   "execution_count": 4,
   "id": "b18cc9c3",
   "metadata": {},
   "outputs": [
    {
     "name": "stdout",
     "output_type": "stream",
     "text": [
      "🔹 Running:  osmium tags-filter ../utils/osm_geofabrik_pbf/germany-250805.osm.pbf nwr/amenity=school,kindergarten -o processed_osm_files/processed_schools_germany_250805.pbf\n",
      "✅ Osmium processing complete! Files saved in 'processed_osm_files/'\n"
     ]
    }
   ],
   "source": [
    "def run_osmium(filename):\n",
    "    try:\n",
    "        folder_download = \"../utils/osm_geofabrik_pbf\"\n",
    "        folder_processed = \"processed_osm_files\"\n",
    "        os.makedirs(folder_processed, exist_ok=True)\n",
    "        \n",
    "        input_pbf = os.path.join(folder_download, filename)\n",
    "        filtered_pbf = os.path.join(folder_processed, f\"processed_schools_germany_{set_date}.pbf\")\n",
    "\n",
    "        # # Convert to Unix-style paths using forward slashes\n",
    "        # input_pbf = input_pbf.replace(\"\\\\\", \"/\")\n",
    "        # filtered_pbf = filtered_pbf.replace(\"\\\\\", \"/\")\n",
    "\n",
    "        if os.path.exists(filtered_pbf):\n",
    "            print(f\"Processed file already exists: {filtered_pbf}, skipping processing.\")\n",
    "            return\n",
    "\n",
    "        filter_command = [\n",
    "            \"osmium\", \"tags-filter\",\n",
    "            input_pbf,\n",
    "\n",
    "            \"nwr/amenity=school,kindergarten\",\n",
    "\n",
    "            \n",
    "            \"-o\", filtered_pbf\n",
    "        ]\n",
    "        print(\"🔹 Running: \", \" \".join(filter_command))\n",
    "        subprocess.run(filter_command, check=True)\n",
    "\n",
    "        print(\"✅ Osmium processing complete! Files saved in 'processed_osm_files/'\")\n",
    "\n",
    "    except subprocess.CalledProcessError as e:\n",
    "        print(\"❌ Error running Osmium:\", e)\n",
    "\n",
    "\n",
    "\n",
    "\n",
    "filename = f\"germany-{set_date}.osm.pbf\"\n",
    "\n",
    "run_osmium(filename)"
   ]
  },
  {
   "cell_type": "code",
   "execution_count": null,
   "id": "fe6c1c7b",
   "metadata": {},
   "outputs": [],
   "source": []
  },
  {
   "cell_type": "code",
   "execution_count": null,
   "id": "876b3d82",
   "metadata": {},
   "outputs": [],
   "source": []
  },
  {
   "cell_type": "code",
   "execution_count": 1,
   "id": "263cb5dd",
   "metadata": {},
   "outputs": [
    {
     "name": "stdout",
     "output_type": "stream",
     "text": [
      "Running: ogr2ogr -overwrite --config OSM_CONFIG_FILE processed_osm_files/osmconf_schools.ini -f GPKG processed_osm_files/processed_schools_germany_250805.gpkg processed_osm_files/processed_schools_germany_250805.pbf\n",
      "GeoPackage created successfully:\n",
      "0...10...20...30...40...50...60...70...80...90...100 - done.\n",
      "\n"
     ]
    }
   ],
   "source": [
    "import subprocess\n",
    "import os\n",
    "\n",
    "def ogr2ogr_to_geopackage(input_pbf, output_gpkg, osmconf_path=None):\n",
    "    ogr2ogr_path = \"ogr2ogr\"\n",
    "\n",
    "    cmd = [\n",
    "        ogr2ogr_path,\n",
    "        \"-overwrite\",                 # Overwrite the output file if it exists\n",
    "        \"--config\",                   # Use configuration file\n",
    "        \"OSM_CONFIG_FILE\",            # The config parameter key\n",
    "        osmconf_path,                 # Path to the osmconf.ini\n",
    "        \"-f\", \"GPKG\",  # Output format: GeoPackage\n",
    "        #\"-f\", \"Parquet\",  # Output format: GeoPackage\n",
    "        output_gpkg,   # Output GeoPackage file\n",
    "        input_pbf#,      # Input .pbf file\n",
    "       # \"-oo OSM_CONFIG_FILE=C:/path/to/your/osmconf.ini\"\n",
    "    ]\n",
    "    print(\"Running:\", \" \".join(cmd))  # Print the full command for debugging\n",
    "\n",
    "    try:\n",
    "        result = subprocess.run(cmd, check=True, capture_output=True, text=True)\n",
    "        print(\"GeoPackage created successfully:\")\n",
    "        print(result.stdout)\n",
    "    except subprocess.CalledProcessError as e:\n",
    "        print(\"❌ ogr2ogr failed during conversion to GeoPackage:\")\n",
    "        print(e.stderr)\n",
    "        raise\n",
    "\n",
    "# Example usage\n",
    "#input_pbf = \"processed_osm_files/germany_osm_schools-25-05-09.pbf\"\n",
    "input_pbf = \"processed_osm_files/processed_schools_germany_250805.pbf\"\n",
    "\n",
    "output_gpkg = \"processed_osm_files/processed_schools_germany_250805.gpkg\"\n",
    "osmconf_path = \"processed_osm_files/osmconf_schools.ini\"\n",
    "\n",
    "ogr2ogr_to_geopackage(input_pbf, output_gpkg, osmconf_path)"
   ]
  },
  {
   "cell_type": "code",
   "execution_count": 2,
   "id": "852834cb",
   "metadata": {},
   "outputs": [],
   "source": [
    "import geopandas as gpd\n",
    "import fiona\n",
    "import pandas as pd\n",
    "\n",
    "def save_filtered_gpkg_layers_as_fgb(input_gpkg, output_fgb, selected_layers=None, allowed_amenities=None):\n",
    "    # List all layers in the GeoPackage\n",
    "    available_layers = fiona.listlayers(input_gpkg)\n",
    "    print(f\"📦 All available layers: {available_layers}\")\n",
    "\n",
    "    if selected_layers is None:\n",
    "        selected_layers = available_layers\n",
    "\n",
    "    # Filter to only existing layers\n",
    "    layers_to_use = [layer for layer in selected_layers if layer in available_layers]\n",
    "    print(f\"✅ Layers to include: {layers_to_use}\")\n",
    "\n",
    "    all_gdfs = []\n",
    "\n",
    "    for layer in layers_to_use:\n",
    "        print(f\"🔹 Reading layer: {layer}\")\n",
    "        gdf = gpd.read_file(input_gpkg, layer=layer)\n",
    "\n",
    "        # Filter based on 'amenity'\n",
    "        if 'amenity' in gdf.columns and allowed_amenities:\n",
    "            before = len(gdf)\n",
    "            gdf = gdf[gdf['amenity'].isin(allowed_amenities)]\n",
    "            after = len(gdf)\n",
    "            print(f\"   🔸 Filtered {before} → {after} features by amenity\")\n",
    "\n",
    "        gdf[\"source_layer\"] = layer  # optional\n",
    "        all_gdfs.append(gdf)\n",
    "\n",
    "    # Combine into one GeoDataFrame\n",
    "    combined = pd.concat(all_gdfs, ignore_index=True)\n",
    "    combined = gpd.GeoDataFrame(combined, geometry=\"geometry\")\n",
    "\n",
    "    # Write to FlatGeobuf\n",
    "    combined.to_file(output_fgb, driver=\"FlatGeobuf\")\n",
    "    print(f\"✅ FlatGeobuf file written: {output_fgb}\")\n"
   ]
  },
  {
   "cell_type": "code",
   "execution_count": 3,
   "id": "1668f25c",
   "metadata": {},
   "outputs": [
    {
     "name": "stdout",
     "output_type": "stream",
     "text": [
      "📦 All available layers: ['points', 'lines', 'multipolygons', 'other_relations', 'multilinestrings']\n",
      "✅ Layers to include: ['points', 'multipolygons']\n",
      "🔹 Reading layer: points\n",
      "   🔸 Filtered 34418 → 18926 features by amenity\n",
      "🔹 Reading layer: multipolygons\n",
      "   🔸 Filtered 63501 → 62556 features by amenity\n",
      "✅ FlatGeobuf file written: processed_osm_files/processed_schools_germany_250805.fgb\n"
     ]
    }
   ],
   "source": [
    "set_date = \"250805\" \n",
    "\n",
    "\n",
    "save_filtered_gpkg_layers_as_fgb(\n",
    "    input_gpkg=f\"processed_osm_files/processed_schools_germany_{set_date}.gpkg\",\n",
    "    output_fgb=f\"processed_osm_files/processed_schools_germany_{set_date}.fgb\",\n",
    "    selected_layers=[\"points\", \"multipolygons\"],\n",
    "    allowed_amenities=[\"school\", \"kindergarten\"]\n",
    ")"
   ]
  },
  {
   "cell_type": "code",
   "execution_count": null,
   "id": "84c430ed",
   "metadata": {},
   "outputs": [],
   "source": []
  }
 ],
 "metadata": {
  "kernelspec": {
   "display_name": "gdal_parquet_env",
   "language": "python",
   "name": "python3"
  },
  "language_info": {
   "codemirror_mode": {
    "name": "ipython",
    "version": 3
   },
   "file_extension": ".py",
   "mimetype": "text/x-python",
   "name": "python",
   "nbconvert_exporter": "python",
   "pygments_lexer": "ipython3",
   "version": "3.10.17"
  }
 },
 "nbformat": 4,
 "nbformat_minor": 5
}
