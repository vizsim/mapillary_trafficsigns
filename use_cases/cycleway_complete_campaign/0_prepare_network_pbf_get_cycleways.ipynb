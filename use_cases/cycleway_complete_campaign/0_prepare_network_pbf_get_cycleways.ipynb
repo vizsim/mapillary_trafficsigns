{
 "cells": [
  {
   "cell_type": "code",
   "execution_count": 2,
   "id": "fe3c8c5a",
   "metadata": {},
   "outputs": [],
   "source": [
    "import os\n",
    "import requests\n",
    "import subprocess\n",
    "\n",
    "#from pyrosm import OSM\n",
    "import geopandas as gpd\n",
    "import pandas as pd\n",
    "\n",
    "from pathlib import Path\n"
   ]
  },
  {
   "cell_type": "code",
   "execution_count": 3,
   "id": "fd278a0c",
   "metadata": {},
   "outputs": [
    {
     "name": "stdout",
     "output_type": "stream",
     "text": [
      "Osmium version: osmium version 1.16.0\n",
      "libosmium version 2.20.0\n",
      "Supported PBF compression types: none zlib lz4\n",
      "\n",
      "Copyright (C) 2013-2023  Jochen Topf <jochen@topf.org>\n",
      "License: GNU GENERAL PUBLIC LICENSE Version 3 <https://gnu.org/licenses/gpl.html>.\n",
      "This is free software: you are free to change and redistribute it.\n",
      "There is NO WARRANTY, to the extent permitted by law.\n"
     ]
    }
   ],
   "source": [
    "## check if osmium is installed\n",
    "\n",
    "try:\n",
    "    result = subprocess.run(['osmium', '--version'], check=True, capture_output=True, text=True)\n",
    "    print(f\"Osmium version: {result.stdout.strip()}\")\n",
    "except subprocess.CalledProcessError as e:\n",
    "    print(f\"Error running Osmium: {e}\")"
   ]
  },
  {
   "cell_type": "markdown",
   "id": "0398c3d1",
   "metadata": {},
   "source": [
    "what this does:\n",
    "\n",
    "1. Download OSM data from geofabrik\n",
    "2. Extract  highways using osmium\n",
    "3. Convert pbf to geojson.gz and add tags using ogr2ogr\n",
    "3. Convert geojson.gz to pmtiles using tippecanoe\n",
    "\n"
   ]
  },
  {
   "cell_type": "code",
   "execution_count": 4,
   "id": "f7293c92-acd4-46dd-a8ee-fcc04821b478",
   "metadata": {},
   "outputs": [
    {
     "name": "stdout",
     "output_type": "stream",
     "text": [
      "Downloading: https://download.geofabrik.de/europe/germany-250805.osm.pbf\n",
      "Downloaded: osm_geofabrik_pbf/germany-250805.osm.pbf\n",
      "🔹 Running:  osmium tags-filter osm_geofabrik_pbf/germany-250805.osm.pbf w/highway=cycleway,path,footway,residential,unclassified,living_street,road,pedestrian w/bicycle=yes w/bicycle=designated w/cycleway w/cycleway:left w/cycleway:right w/cycleway:both w/cycleway:lane w/cycleway:track w/cycleway:opposite w/cycleway:opposite_lane w/cycleway:opposite_track w/cycleway:shared_lane w/sidewalk:left:bicycle w/sidewalk:right:bicycle w/sidewalk:both:bicycle w/bicycle:forward w/bicycle:backward -o processed_osm_files/processed_cycleways_germany_250805.pbf\n",
      "✅ Osmium processing complete! Files saved in 'processed_osm_files/'\n"
     ]
    }
   ],
   "source": [
    "\n",
    "#### Downloading OSM data from Geofabrik\n",
    "\n",
    "set_date = \"250805\" \n",
    "\n",
    "\n",
    "#https://download.geofabrik.de/europe/germany/berlin-250401.osm.pbf\n",
    "#\tgermany-250405.osm.pbf\n",
    "\n",
    "def download_geofabrik_pbf(filename,base_url = \"https://download.geofabrik.de/europe/\"):\n",
    "    folder_download = \"osm_geofabrik_pbf\"\n",
    "    os.makedirs(folder_download, exist_ok=True)\n",
    "    \n",
    "    #filename = \"germany-250401.osm.pbf\"\n",
    "    file_path = os.path.join(folder_download, filename)\n",
    "    file_url = base_url + filename\n",
    "    \n",
    "    if os.path.exists(file_path):\n",
    "        print(f\"File already exists: {file_path}, skipping download.\")\n",
    "    else:\n",
    "        print(f\"Downloading: {file_url}\")\n",
    "        response = requests.get(file_url, stream=True, timeout=60)\n",
    "        if response.status_code == 200:\n",
    "            with open(file_path, \"wb\") as f:\n",
    "                for chunk in response.iter_content(chunk_size=1024):\n",
    "                    f.write(chunk)\n",
    "            print(f\"Downloaded: {file_path}\")\n",
    "        else:\n",
    "            print(f\"Failed to download {file_url} (Status code: {response.status_code})\")\n",
    "\n",
    "\n",
    "# osmium needs to be installed on your system in order to run this code/filtering\n",
    "# https://osmcode.org/osmium-tool/\n",
    "# for my win11 machine i used https://trac.osgeo.org/osgeo4w/\n",
    "\n",
    "def run_osmium(filename):\n",
    "    try:\n",
    "        folder_download = \"osm_geofabrik_pbf\"\n",
    "        folder_processed = \"processed_osm_files\"\n",
    "        os.makedirs(folder_processed, exist_ok=True)\n",
    "        \n",
    "        input_pbf = os.path.join(folder_download, filename)\n",
    "        filtered_pbf = os.path.join(folder_processed, f\"processed_cycleways_germany_{set_date}.pbf\")\n",
    "\n",
    "        # # Convert to Unix-style paths using forward slashes\n",
    "        # input_pbf = input_pbf.replace(\"\\\\\", \"/\")\n",
    "        # filtered_pbf = filtered_pbf.replace(\"\\\\\", \"/\")\n",
    "\n",
    "        if os.path.exists(filtered_pbf):\n",
    "            print(f\"Processed file already exists: {filtered_pbf}, skipping processing.\")\n",
    "            return\n",
    "\n",
    "        filter_command = [\n",
    "            \"osmium\", \"tags-filter\",\n",
    "            input_pbf,\n",
    "\n",
    "            # Straßen mit potenzieller Radnutzung\n",
    "            \"w/highway=cycleway,path,footway,residential,unclassified,living_street,road,pedestrian\",\n",
    "            \n",
    "            # Wege, die explizit für Fahrräder ausgewiesen sind\n",
    "            \"w/bicycle=yes\",\n",
    "            \"w/bicycle=designated\",\n",
    "            \n",
    "            # Zusätzliche Radinfrastruktur-Tags\n",
    "            \"w/cycleway\",\n",
    "            \"w/cycleway:left\",\n",
    "            \"w/cycleway:right\",\n",
    "            \"w/cycleway:both\",\n",
    "            \"w/cycleway:lane\",\n",
    "            \"w/cycleway:track\",\n",
    "            \"w/cycleway:opposite\",\n",
    "            \"w/cycleway:opposite_lane\",\n",
    "            \"w/cycleway:opposite_track\",\n",
    "            \"w/cycleway:shared_lane\",\n",
    "            # \"w/cycleway:protected\",\n",
    "\n",
    "            # weiteres\n",
    "            \"w/sidewalk:left:bicycle\",\n",
    "            \"w/sidewalk:right:bicycle\",\n",
    "            \"w/sidewalk:both:bicycle\",\n",
    "            \"w/bicycle:forward\",\n",
    "            \"w/bicycle:backward\",\n",
    "\n",
    "\n",
    "            \"-o\", filtered_pbf\n",
    "        ]\n",
    "        print(\"🔹 Running: \", \" \".join(filter_command))\n",
    "        subprocess.run(filter_command, check=True)\n",
    "\n",
    "        print(\"✅ Osmium processing complete! Files saved in 'processed_osm_files/'\")\n",
    "\n",
    "    except subprocess.CalledProcessError as e:\n",
    "        print(\"❌ Error running Osmium:\", e)\n",
    "\n",
    "\n",
    "\n",
    "\n",
    "filename = f\"germany-{set_date}.osm.pbf\"\n",
    "\n",
    "download_geofabrik_pbf(filename )\n",
    "\n",
    "run_osmium(filename)\n"
   ]
  },
  {
   "cell_type": "code",
   "execution_count": null,
   "id": "3cf0bd4a",
   "metadata": {},
   "outputs": [],
   "source": []
  },
  {
   "cell_type": "code",
   "execution_count": null,
   "id": "62349736",
   "metadata": {},
   "outputs": [],
   "source": []
  },
  {
   "cell_type": "code",
   "execution_count": null,
   "id": "e2500a6d",
   "metadata": {},
   "outputs": [],
   "source": [
    "### TO PArQUET (only works with special env, dont need it for tippecanoe)"
   ]
  },
  {
   "cell_type": "code",
   "execution_count": null,
   "id": "238905af",
   "metadata": {},
   "outputs": [
    {
     "data": {
      "text/plain": [
       "'\\nNOTE: This script depends on GDAL being compiled with Apache Arrow/Parquet support.\\nNot all environments support this, so please read below before running.\\n\\nThere are two environments commonly used with this script:\\n\\n1. ✅ `gdal_parquet_env` (Conda):\\n   - Created using `conda` with GDAL, pyarrow, and parquet support from conda-forge\\n   - Supports exporting to `.parquet` using ogr2ogr\\n   - Required packages include: gdal, pyarrow, libgdal-arrow-parquet\\n\\n2. 🚫 `venv` (venv + pip):\\n   - Uses system GDAL or pip-installed bindings\\n   - **Does NOT support Parquet**, because GDAL was not built with Arrow/Parquet support\\n   - Running `ogr2ogr` with Parquet output will silently fail or show \"Parquet\" missing from `ogr2ogr --formats`\\n\\n👉 To check if your environment supports Parquet:\\n    `ogr2ogr --formats | grep -i parquet`\\n\\n💡 Recommendation:\\n    Use `gdal_parquet_env` or create a new Conda environment like:\\n    `conda create -n parquet_env -c conda-forge gdal pyarrow`\\n\\n'"
      ]
     },
     "execution_count": 5,
     "metadata": {},
     "output_type": "execute_result"
    }
   ],
   "source": [
    "\"\"\"\n",
    "NOTE: This script depends on GDAL being compiled with Apache Arrow/Parquet support.\n",
    "Not all environments support this, so please read below before running.\n",
    "\n",
    "There are two environments commonly used with this script:\n",
    "\n",
    "1. ✅ `gdal_parquet_env` (Conda):\n",
    "   - Created using `conda` with GDAL, pyarrow, and parquet support from conda-forge\n",
    "   - Supports exporting to `.parquet` using ogr2ogr\n",
    "   - Required packages include: gdal, pyarrow, libgdal-arrow-parquet\n",
    "\n",
    "2. 🚫 `venv` (venv + pip):\n",
    "   - Uses system GDAL or pip-installed bindings\n",
    "   - **Does NOT support Parquet**, because GDAL was not built with Arrow/Parquet support\n",
    "   - Running `ogr2ogr` with Parquet output will silently fail or show \"Parquet\" missing from `ogr2ogr --formats`\n",
    "\n",
    "👉 To check if your environment supports Parquet:\n",
    "    `ogr2ogr --formats | grep -i parquet`\n",
    "\n",
    "💡 Recommendation:\n",
    "    Use `gdal_parquet_env` or create a new Conda environment like:\n",
    "    `conda create -n parquet_env -c conda-forge gdal pyarrow`\n",
    "\n",
    "\"\"\"\n"
   ]
  },
  {
   "cell_type": "code",
   "execution_count": 1,
   "id": "26d52cca",
   "metadata": {},
   "outputs": [],
   "source": [
    "import subprocess\n",
    "from pathlib import Path\n",
    "import os\n",
    "\n",
    "def ogr2ogr_parquet(input_file, output_parquet, layer=\"lines\", select_fields=None, osmconf_path=None):\n",
    "    ogr2ogr_path = \"ogr2ogr\"  # Use system-installed ogr2ogr on WSL\n",
    "\n",
    "    input_file = Path(input_file).resolve()\n",
    "    output_parquet = Path(output_parquet).resolve()\n",
    "\n",
    "    cmd = [\n",
    "        ogr2ogr_path,\n",
    "        \"-f\", \"Parquet\",\n",
    "        str(output_parquet),\n",
    "        str(input_file),\n",
    "    ]\n",
    "\n",
    "    if layer:\n",
    "        cmd.append(layer)\n",
    "\n",
    "    #if select_fields:\n",
    "    #    cmd += [\"-select\", \",\".join(select_fields)]\n",
    "\n",
    "    # Prepare environment with optional OSM config path\n",
    "    env = os.environ.copy()\n",
    "    if osmconf_path:\n",
    "        env[\"OSM_CONFIG_FILE\"] = str(Path(osmconf_path).resolve())\n",
    "\n",
    "    print(\"Running:\", \" \".join(cmd))\n",
    "    try:\n",
    "        result = subprocess.run(\n",
    "            cmd,\n",
    "            check=True,\n",
    "            capture_output=True,\n",
    "            text=True,\n",
    "            env=env\n",
    "        )\n",
    "        print(result.stdout)\n",
    "    except subprocess.CalledProcessError as e:\n",
    "        print(\"❌ ogr2ogr failed:\")\n",
    "        print(\"STDERR:\", e.stderr)\n",
    "        print(\"STDOUT:\", e.stdout)\n",
    "        raise\n"
   ]
  },
  {
   "cell_type": "code",
   "execution_count": 4,
   "id": "d464f94a",
   "metadata": {},
   "outputs": [
    {
     "name": "stdout",
     "output_type": "stream",
     "text": [
      "Running: ogr2ogr -f Parquet /home/simon/mapillary_trafficsigns/use_cases/cycleway_complete_campaign/processed_osm_files/processed_cycleways_germany_250805.parquet /home/simon/mapillary_trafficsigns/use_cases/cycleway_complete_campaign/processed_osm_files/processed_cycleways_germany_250805.pbf lines\n",
      "0...10...20...30...40...50...60...70...80...90...100 - done in 00:00:57.\n",
      "\n"
     ]
    }
   ],
   "source": [
    "set_date = \"250805\" \n",
    "\n",
    "folder= \"processed_osm_files\"\n",
    "# os.makedirs(folder, exist_ok=True)\n",
    "\n",
    "input_pbf = Path(f\"{folder}/processed_cycleways_germany_{set_date}.pbf\")\n",
    "output_file = Path(f\"{folder}/processed_cycleways_germany_{set_date}.parquet\")\n",
    "osmconf_file = Path(f\"{folder}/osmconf_cycleways.ini\")\n",
    "\n",
    "ogr2ogr_parquet(\n",
    "    input_pbf,\n",
    "    output_file,\n",
    "    osmconf_path=osmconf_file\n",
    ")"
   ]
  },
  {
   "cell_type": "code",
   "execution_count": null,
   "id": "84fe383f",
   "metadata": {},
   "outputs": [],
   "source": []
  },
  {
   "cell_type": "code",
   "execution_count": 5,
   "id": "bee43e57",
   "metadata": {},
   "outputs": [],
   "source": [
    "#------------------"
   ]
  },
  {
   "cell_type": "code",
   "execution_count": 7,
   "id": "b18cc9c3",
   "metadata": {},
   "outputs": [
    {
     "name": "stdout",
     "output_type": "stream",
     "text": [
      "🔹 Running:  osmium tags-filter osm_geofabrik_pbf/germany-250805.osm.pbf w/highway=motorway -o processed_osm_files/processed_motorways_germany_250805.pbf\n",
      "✅ Osmium processing complete! Files saved in 'processed_osm_files/'\n"
     ]
    }
   ],
   "source": [
    "def run_osmium(filename):\n",
    "    try:\n",
    "        folder_download = \"osm_geofabrik_pbf\"\n",
    "        folder_processed = \"processed_osm_files\"\n",
    "        os.makedirs(folder_processed, exist_ok=True)\n",
    "        \n",
    "        input_pbf = os.path.join(folder_download, filename)\n",
    "        filtered_pbf = os.path.join(folder_processed, f\"processed_motorways_germany_{set_date}.pbf\")\n",
    "\n",
    "        # # Convert to Unix-style paths using forward slashes\n",
    "        # input_pbf = input_pbf.replace(\"\\\\\", \"/\")\n",
    "        # filtered_pbf = filtered_pbf.replace(\"\\\\\", \"/\")\n",
    "\n",
    "        if os.path.exists(filtered_pbf):\n",
    "            print(f\"Processed file already exists: {filtered_pbf}, skipping processing.\")\n",
    "            return\n",
    "\n",
    "        filter_command = [\n",
    "            \"osmium\", \"tags-filter\",\n",
    "            input_pbf,\n",
    "\n",
    "            # Straßen\n",
    "            \"w/highway=motorway\",\n",
    "            \n",
    "            \"-o\", filtered_pbf\n",
    "        ]\n",
    "        print(\"🔹 Running: \", \" \".join(filter_command))\n",
    "        subprocess.run(filter_command, check=True)\n",
    "\n",
    "        print(\"✅ Osmium processing complete! Files saved in 'processed_osm_files/'\")\n",
    "\n",
    "    except subprocess.CalledProcessError as e:\n",
    "        print(\"❌ Error running Osmium:\", e)\n",
    "\n",
    "\n",
    "\n",
    "\n",
    "filename = f\"germany-{set_date}.osm.pbf\"\n",
    "\n",
    "run_osmium(filename)"
   ]
  },
  {
   "cell_type": "code",
   "execution_count": 8,
   "id": "3a29e1ab",
   "metadata": {},
   "outputs": [
    {
     "name": "stdout",
     "output_type": "stream",
     "text": [
      "Running: ogr2ogr -f Parquet /home/simon/mapillary_trafficsigns/use_cases/cycleway_complete_campaign/processed_osm_files/processed_motorways_germany_250805.parquet /home/simon/mapillary_trafficsigns/use_cases/cycleway_complete_campaign/processed_osm_files/processed_motorways_germany_250805.pbf lines\n",
      "0...10...20...30...40...50...60...70...80...90...100 - done.\n",
      "\n"
     ]
    }
   ],
   "source": [
    "set_date = \"250805\" \n",
    "\n",
    "folder= \"processed_osm_files\"\n",
    "# os.makedirs(folder, exist_ok=True)\n",
    "\n",
    "input_pbf = Path(f\"{folder}/processed_motorways_germany_{set_date}.pbf\")\n",
    "output_file = Path(f\"{folder}/processed_motorways_germany_{set_date}.parquet\")\n",
    "osmconf_file = Path(f\"{folder}/osmconf_motorways.ini\")\n",
    "\n",
    "ogr2ogr_parquet(\n",
    "    input_pbf,\n",
    "    output_file,\n",
    "    osmconf_path=osmconf_file\n",
    ")"
   ]
  },
  {
   "cell_type": "code",
   "execution_count": null,
   "id": "fe6c1c7b",
   "metadata": {},
   "outputs": [],
   "source": []
  },
  {
   "cell_type": "code",
   "execution_count": null,
   "id": "852834cb",
   "metadata": {},
   "outputs": [],
   "source": []
  }
 ],
 "metadata": {
  "kernelspec": {
   "display_name": "gdal_parquet_env",
   "language": "python",
   "name": "python3"
  },
  "language_info": {
   "codemirror_mode": {
    "name": "ipython",
    "version": 3
   },
   "file_extension": ".py",
   "mimetype": "text/x-python",
   "name": "python",
   "nbconvert_exporter": "python",
   "pygments_lexer": "ipython3",
   "version": "3.10.17"
  }
 },
 "nbformat": 4,
 "nbformat_minor": 5
}
